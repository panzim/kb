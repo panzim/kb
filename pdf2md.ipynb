{
 "cells": [
  {
   "cell_type": "code",
   "execution_count": null,
   "id": "e8d45529-d039-44b7-9f92-7fad344d96cd",
   "metadata": {},
   "outputs": [],
   "source": [
    "from docling.document_converter import DocumentConverter\n",
    "\n",
    "converter = DocumentConverter()\n",
    "# 2025-09-12 20:24:01,523 - INFO - Finished converting document 2024q2-alphabet-earnings-release.pdf in 51.14 sec.\n",
    "# 2025-09-12 20:24:01,833 - WARNING - Parameter `strict_text` has been deprecated and will be ignored.\n",
    "# len(result.document.export_to_markdown()) 55323"
   ]
  },
  {
   "cell_type": "code",
   "execution_count": null,
   "id": "b0e86196-ac0d-4c22-b1ec-00c4eb6d5ab8",
   "metadata": {},
   "outputs": [],
   "source": [
    "#src721k = \"../raw-kb/2025q1-alphabet-earnings-slides.pdf\" # path or URL\n",
    "#res721 = converter.convert(src721k)\n",
    "# warning: 'pin_memory' argument is set as true but no accelerator is found, then device pinned memory won't be used.\n",
    "# 2025-09-12 20:37:24,898 - INFO - Finished converting document 2025q1-alphabet-earnings-slides.pdf in 15.35 sec."
   ]
  },
  {
   "cell_type": "code",
   "execution_count": 19,
   "id": "90f072f2-1b22-4a1d-aef1-482b0c57b8c4",
   "metadata": {},
   "outputs": [],
   "source": [
    "from IPython.display import display, Markdown"
   ]
  },
  {
   "cell_type": "code",
   "execution_count": 20,
   "id": "35d9c9e7-6c7e-42b3-a892-70ec35bb6f92",
   "metadata": {},
   "outputs": [
    {
     "data": {
      "text/markdown": [
       "## Alphabet\n",
       "\n",
       "## Q1 2025 Earnings\n",
       "\n",
       "## Note About Forward-Looking Statements and Non-GAAP Financial Measures\n",
       "\n",
       "This  presentation  may  contain  forward-looking  statements  regarding  our  business,  operations,  and financial  performance.  Such  statements  are  based  on  current  expectations  and  assumptions  that  are subject to a number of risks and uncertainties. Actual results could differ materially. Please refer to our Forms 10-K and 10-Q, including the risk factors. We undertake no obligation to update any forward-looking statement, except as required by law. Given these risk and uncertainties, investors are cautioned not to place undue reliance on such forward-looking statements.\n",
       "\n",
       "We  present  both  GAAP  and  non-GAAP  financial  measures  in  this  presentation.  A  reconciliation  of non-GAAP  to  GAAP  measures  is  included  in  this  presentation  and  in  the  most  recent  earnings  press release, which is distributed and available to the public through our Investor Relations website located at abc.xyz/investor.\n",
       "\n",
       "## Alphabet Income Statement\n",
       "\n",
       "in Millions, except Percentages and EPS; unaudited\n",
       "\n",
       "|                             | Q1'24   | Q1'25   | Y/Y   |\n",
       "|-----------------------------|---------|---------|-------|\n",
       "| Revenues                    | $80,539 | $90,234 | 12%   |\n",
       "| Costs and Expenses:         |         |         |       |\n",
       "| Cost of Revenues            | 33,712  | 36,361  | 8%    |\n",
       "| Research and Development    | 11,903  | 13,556  | 14%   |\n",
       "| Sales and Marketing         | 6,426   | 6,172   | -4%   |\n",
       "| General and Administrative  | 3,026   | 3,539   | 17%   |\n",
       "| Total Costs and Expenses    | 55,067  | 59,628  | 8%    |\n",
       "| Income from operations      | 25,472  | 30,606  | 20%   |\n",
       "| Other income (expense), net | 2,843   | 11,183  | 293%  |\n",
       "| Income before income taxes  | 28,315  | 41,789  | 48%   |\n",
       "| Provision for income taxes  | 4,653   | 7,249   | 56%   |\n",
       "| Net income                  | $23,662 | $34,540 | 46%   |\n",
       "| Diluted EPS                 | $1.89   | $2.81   | 49%   |\n",
       "\n",
       "## Alphabet Revenues and Operating Income\n",
       "\n",
       "in Millions, except Percentages; unaudited\n",
       "\n",
       "<!-- image -->\n",
       "\n",
       "<!-- image -->\n",
       "\n",
       "## Alphabet Cost of Revenues and Operating Expenses\n",
       "\n",
       "in Millions, except Percentages; unaudited\n",
       "\n",
       "<!-- image -->\n",
       "\n",
       "<!-- image -->\n",
       "\n",
       "## Google Services Revenues and Operating Income\n",
       "\n",
       "in Millions, except Percentages; unaudited\n",
       "\n",
       "<!-- image -->\n",
       "\n",
       "<!-- image -->\n",
       "\n",
       "## Google Cloud Revenues and Operating Income\n",
       "\n",
       "in Millions, except Percentages; unaudited\n",
       "\n",
       "<!-- image -->\n",
       "\n",
       "<!-- image -->\n",
       "\n",
       "## Alphabet Capital Expenditures\n",
       "\n",
       "in Millions, except Percentages; unaudited\n",
       "\n",
       "<!-- image -->\n",
       "\n",
       "## Trailing Twelve Months Free Cash Flow*\n",
       "\n",
       "in Millions, except Percentages; unaudited\n",
       "\n",
       "|                                           | Q1'24    | Q2'24    | Q3'24    | Q4'24    | Q1'25    | Q1'25 Y/Y   |\n",
       "|-------------------------------------------|----------|----------|----------|----------|----------|-------------|\n",
       "| Net cash provided by operating activities | 28,848   | 26,640   | 30,698   | 39,113   | 36,150   | 25%         |\n",
       "| Purchases of property and equipment       | (12,012) | (13,186) | (13,061) | (14,276) | (17,197) | 43%         |\n",
       "| Free Cash Flow                            | $16,836  | $13,454  | $17,637  | $24,837  | $18,953  | 13%         |\n",
       "| Trailing Twelve Months Free Cash Flow     | $69,111  | $60,787  | $55,823  | $72,764  | $74,881  | 8%          |\n",
       "\n",
       "## Reconciliation from GAAP Net Cash Provided by Operating Activities to Non-GAAP Free Cash Flow\n",
       "\n",
       "We provide non-GAAP free cash flow for the current quarter and trailing twelve months ('TTM') because it is a liquidity measure that provides useful information to management and investors about the amount of cash generated by the business that can be used for strategic opportunities, including investing in our business and acquisitions, and to strengthen our balance sheet.\n",
       "\n",
       "- Free cash flow: We define free cash flow as net cash provided by operating activities less capital expenditures.\n",
       "- TTM free cash flow: We define trailing twelve months free cash flow as net cash provided by operating activities less capital expenditures for the most recent twelve consecutive months.\n",
       "\n",
       "## Reconciliation of GAAP to Non-GAAP Financial Information\n",
       "\n",
       "| in millions; unaudited                            | Q2'23   | Q3'23   | Q4'23    | Q1'24    | Q2'24    | Q3'24    | Q4'24    | Q1'25    |\n",
       "|---------------------------------------------------|---------|---------|----------|----------|----------|----------|----------|----------|\n",
       "| Net cash provided from operating activities       | 28,666  | 30,656  | 18,915   | 28,848   | 26,640   | 30,698   | 39,113   | 36,150   |\n",
       "| less: purchases of property and equipment         | (6,888) | (8,055) | (11,019) | (12,012) | (13,186) | (13,061) | (14,276) | (17,197) |\n",
       "| Free Cash Flow                                    | 21,778  | 22,601  | 7,896    | 16,836   | 13,454   | 17,637   | 24,837   | 18,953   |\n",
       "| Net cash provided from operating activities - TTM |         |         |          | 107,085  | 105,059  | 105,101  | 125,299  | 132,601  |\n",
       "| less: purchases of property and equipment - TTM   |         |         |          | (37,974) | (44,272) | (49,278) | (52,535) | (57,720) |\n",
       "| Free Cash Flow - TTM                              |         |         |          | 69,111   | 60,787   | 55,823   | 72,764   | 74,881   |"
      ],
      "text/plain": [
       "<IPython.core.display.Markdown object>"
      ]
     },
     "metadata": {},
     "output_type": "display_data"
    }
   ],
   "source": [
    "# display(Markdown(res721.document.export_to_markdown()))"
   ]
  },
  {
   "cell_type": "code",
   "execution_count": null,
   "id": "44a26ef2-e407-4cdf-b3dd-d47a0b267967",
   "metadata": {},
   "outputs": [],
   "source": []
  }
 ],
 "metadata": {
  "kernelspec": {
   "display_name": "Python 3 (ipykernel)",
   "language": "python",
   "name": "python3"
  },
  "language_info": {
   "codemirror_mode": {
    "name": "ipython",
    "version": 3
   },
   "file_extension": ".py",
   "mimetype": "text/x-python",
   "name": "python",
   "nbconvert_exporter": "python",
   "pygments_lexer": "ipython3",
   "version": "3.12.3"
  }
 },
 "nbformat": 4,
 "nbformat_minor": 5
}
