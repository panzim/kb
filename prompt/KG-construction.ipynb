{
 "cells": [
  {
   "cell_type": "code",
   "execution_count": null,
   "id": "727cb56a-1643-4d3d-9318-0805ea35aad2",
   "metadata": {},
   "outputs": [],
   "source": [
    "from dotenv import load_dotenv\n",
    "from litellm import completion\n",
    "\n",
    "_ = load_dotenv()"
   ]
  },
  {
   "cell_type": "code",
   "execution_count": null,
   "id": "51b0381f-b012-4616-ba16-2ce200ecbe23",
   "metadata": {},
   "outputs": [],
   "source": [
    "# \"gemini/gemini-1.5-flash-latest\"\n",
    "MODEL_GPT_41 = \"openai/gpt-4.1\"\n",
    "messages = [\n",
    "    {\"role\": \"user\", \"content\": \"Are you ready\"}\n",
    "]\n",
    "\n",
    "response = completion(\n",
    "    model=MODEL_GPT_41,\n",
    "    messages=messages\n",
    ")"
   ]
  },
  {
   "cell_type": "code",
   "execution_count": null,
   "id": "b611b70d-73c8-404d-b650-bf4b5592e1dd",
   "metadata": {},
   "outputs": [],
   "source": [
    "# print(response.choices[0].message.content)  # Yes, I'm ready! How can I help you today?"
   ]
  },
  {
   "cell_type": "code",
   "execution_count": null,
   "id": "6eba7487-5b3c-4a67-ac2c-052c39343771",
   "metadata": {},
   "outputs": [],
   "source": [
    "prompt_text = f\"\"\"\n",
    "Given the following earnings call transcript, propose a knowledge graph schema. The schema should be represented using nodes and relationships.\n",
    "\n",
    "Your proposal should define:\n",
    "1.  **Node Types:** The different types of entities (e.g., Company, Executive, Analyst, FinancialMetric, Quarter) you'd expect to find. For each node type, list the key properties that would describe it.\n",
    "2.  **Relationship Types:** The different relationships that connect the nodes (e.g., REPORTS_FINANCIALS_FOR, DISCUSSES_METRIC, ASKS_QUESTION_TO). For each relationship, specify the start and end node types and any properties the relationship itself should have.\n",
    "\n",
    "The goal is to design a schema that can be applied to a series of similar earnings transcripts to track financial performance,\n",
    "strategic decisions, and the roles of key individuals over time.\n",
    "Focus on the core entities and relationships needed to capture the main information.\n",
    "Your answer should be headed \"Knowledge Graph Schema Proposal\" (verbatim) and should be just schema, i.e. no endnotes, no visualization examples.\n",
    "\n",
    "---\n",
    "[START OF FILE CONTENT]\n",
    "{file_content}\n",
    "[END OF FILE CONTENT]\n",
    "---\n",
    "\n",
    "Knowledge Graph Schema Proposal:\n",
    "\"\"\""
   ]
  },
  {
   "cell_type": "code",
   "execution_count": null,
   "id": "8c89fa7c-646a-4252-bf26-e51687b49642",
   "metadata": {},
   "outputs": [],
   "source": [
    "with open(\"../text-kb/2023-q3-earnings-transcript.md\", \"r\", encoding=\"utf-8\") as file:\n",
    "    file_content = file.read()\n",
    "\n",
    "# len(file_content) 47775"
   ]
  },
  {
   "cell_type": "code",
   "execution_count": null,
   "id": "3a4e0d4f-3e73-4d2d-adf9-397c0e16f5c8",
   "metadata": {},
   "outputs": [],
   "source": [
    "messages = [\n",
    "    {\"role\": \"user\", \"content\": prompt_text}\n",
    "]"
   ]
  },
  {
   "cell_type": "code",
   "execution_count": null,
   "id": "9934df25-c1f7-415a-b88e-7997ebecf8b9",
   "metadata": {},
   "outputs": [],
   "source": [
    "%%time\n",
    "\n",
    "response = completion(\n",
    "        model=MODEL_GPT_41,\n",
    "        messages=messages\n",
    ")\n",
    "# Wall time: 16.9-15.7 s"
   ]
  },
  {
   "cell_type": "code",
   "execution_count": null,
   "id": "ddec279d-ed5d-48a7-92f3-a8fc357b729b",
   "metadata": {},
   "outputs": [],
   "source": [
    "#print(response.choices[0].message.content)"
   ]
  },
  {
   "cell_type": "code",
   "execution_count": null,
   "id": "b49a0fbe-95f0-40bb-bad1-f182e5ced792",
   "metadata": {},
   "outputs": [],
   "source": [
    "KNOWLEDGE_GRAPH_SCHEMA_proposal = response.choices[0].message.content  # see KG-construction-1a.txt"
   ]
  },
  {
   "cell_type": "code",
   "execution_count": null,
   "id": "3274c3a8-7608-4e60-ac1d-526f1539111f",
   "metadata": {},
   "outputs": [],
   "source": [
    "#file_content"
   ]
  },
  {
   "cell_type": "code",
   "execution_count": null,
   "id": "2de7b714-9b7a-4531-bec2-53f9e53625cc",
   "metadata": {},
   "outputs": [],
   "source": [
    "revision_prompt = f\"\"\"\n",
    "Given the following existing knowledge graph schema and a new document, propose amendments to the schema to better accommodate information from the new document.\n",
    "\n",
    "Your response must be a concise, bulleted list of suggested changes under a single heading \"Feedback:\". Do not generate any other text. Each bullet point should be specific, detailing what to add or modify in the schema.\n",
    "\n",
    "---\n",
    "{KNOWLEDGE_GRAPH_SCHEMA_proposal}\n",
    "---\n",
    "\n",
    "[START OF NEW FILE CONTENT]\n",
    "{file_content}\n",
    "[END OF NEW FILE CONTENT]\n",
    "---\n",
    "\n",
    "Feedback:\n",
    "- Suggested additions to Node Types:\n",
    "- Suggested additions to Relationship Types:\n",
    "- Suggested new properties for existing Node Types or Relationship Types:\n",
    "\"\"\""
   ]
  },
  {
   "cell_type": "code",
   "execution_count": null,
   "id": "350dd461-c46f-47f6-abd8-810454b23379",
   "metadata": {},
   "outputs": [],
   "source": [
    "extra_files = [\n",
    "    \"6 things you can do with Google Photos’ Create tab\"\n",
    "    ,\"AI Mode in Google Search expands to more languages\"\n",
    "    ,\"Alphabet to Present at the Goldman Sachs 2025 Communacopia + Technology Conference - Alphabet Investor Relations\"\n",
    "    ,\"Google's statement on Sept 2025 Search DOJ decision\"\n",
    "]\n",
    "with open(f\"../text-kb/{extra_files[3]}.md\", \"r\", encoding=\"utf-8\") as file:\n",
    "    file_content = file.read()\n",
    "\n",
    "# len(file_content)  # 2011"
   ]
  },
  {
   "cell_type": "code",
   "execution_count": null,
   "id": "b532289e-02dc-495c-aab3-a0c0f4a96328",
   "metadata": {},
   "outputs": [],
   "source": [
    "prompt_text = revision_prompt\n",
    "messages = [\n",
    "    {\"role\": \"user\", \"content\": prompt_text}\n",
    "]"
   ]
  },
  {
   "cell_type": "code",
   "execution_count": null,
   "id": "4edd3f91-f330-4cb2-b569-48082a2f02b1",
   "metadata": {},
   "outputs": [],
   "source": [
    "%%time\n",
    "\n",
    "response = completion(\n",
    "        model=MODEL_GPT_41,\n",
    "        messages=messages\n",
    ")\n",
    "# Wall time: 3 s"
   ]
  },
  {
   "cell_type": "code",
   "execution_count": null,
   "id": "6d7cbfda-db6e-482c-b9ca-1baed9ffb64f",
   "metadata": {},
   "outputs": [],
   "source": [
    "#print(response.choices[0].message.content)\n",
    "#revision_prompt"
   ]
  },
  {
   "cell_type": "code",
   "execution_count": null,
   "id": "bb56e639-723f-4aea-83f8-71a12ae4b0ae",
   "metadata": {},
   "outputs": [],
   "source": [
    "feedback3 = response.choices[0].message.content"
   ]
  },
  {
   "cell_type": "code",
   "execution_count": null,
   "id": "4f07f060-1016-4f6c-87c1-ee3f2c62aa0d",
   "metadata": {},
   "outputs": [],
   "source": [
    "with open(f\"../text-kb/{extra_files[0]}.md\", \"r\", encoding=\"utf-8\") as file:\n",
    "    file_content = file.read()\n",
    "\n",
    "# len(file_content)  # 1623"
   ]
  },
  {
   "cell_type": "code",
   "execution_count": null,
   "id": "c1eabb75-d84f-46d8-b784-a9e259eab7a7",
   "metadata": {},
   "outputs": [],
   "source": [
    "%%time\n",
    "prompt_text = revision_prompt\n",
    "messages = [\n",
    "    {\"role\": \"user\", \"content\": prompt_text}\n",
    "]\n",
    "response = completion(\n",
    "        model=MODEL_GPT_41,\n",
    "        messages=messages\n",
    ")\n",
    "# Wall time: 8.28 s\n",
    "feedback0 = response.choices[0].message.content"
   ]
  },
  {
   "cell_type": "code",
   "execution_count": null,
   "id": "87501c1f-a263-4c09-9220-4257e6376382",
   "metadata": {},
   "outputs": [],
   "source": [
    "%%time\n",
    "with open(f\"../text-kb/{extra_files[1]}.md\", \"r\", encoding=\"utf-8\") as file:\n",
    "    file_content = file.read()\n",
    "\n",
    "len(file_content)  # \n",
    "prompt_text = revision_prompt  # re-evalute using new {file_content} (and same KNOWLEDGE_GRAPH_SCHEMA_proposal)\n",
    "messages = [\n",
    "    {\"role\": \"user\", \"content\": prompt_text}\n",
    "]\n",
    "response = completion(\n",
    "        model=MODEL_GPT_41,\n",
    "        messages=messages\n",
    ")\n",
    "# Wall time: 6.28 s\n",
    "feedback1 = response.choices[0].message.content"
   ]
  },
  {
   "cell_type": "code",
   "execution_count": null,
   "id": "077b3d5d-0833-4996-aae1-b854ff39f0bc",
   "metadata": {},
   "outputs": [],
   "source": [
    "#print(response.choices[0].message.content)  # see -feedback1.txt\n",
    "#prompt_text\n",
    "#feedback0"
   ]
  },
  {
   "cell_type": "code",
   "execution_count": null,
   "id": "ac512b67-8055-45fc-9ef9-d49437d0fd8b",
   "metadata": {},
   "outputs": [],
   "source": []
  }
 ],
 "metadata": {
  "kernelspec": {
   "display_name": "Python 3 (ipykernel)",
   "language": "python",
   "name": "python3"
  },
  "language_info": {
   "codemirror_mode": {
    "name": "ipython",
    "version": 3
   },
   "file_extension": ".py",
   "mimetype": "text/x-python",
   "name": "python",
   "nbconvert_exporter": "python",
   "pygments_lexer": "ipython3",
   "version": "3.12.3"
  }
 },
 "nbformat": 4,
 "nbformat_minor": 5
}
