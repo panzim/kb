{
 "cells": [
  {
   "cell_type": "code",
   "execution_count": 58,
   "id": "0b26ac10-8805-4f06-b6aa-c93e25dc4946",
   "metadata": {},
   "outputs": [],
   "source": [
    "import pdfplumber\n",
    "from langchain.text_splitter import RecursiveCharacterTextSplitter, SentenceTransformersTokenTextSplitter\n",
    "from sentence_transformers import SentenceTransformer\n",
    "import glob\n",
    "import os\n",
    "from tqdm import tqdm\n",
    "from typing import Generator, Tuple, Iterator\n",
    "\n",
    "import faiss\n",
    "import numpy as np\n",
    "import pickle"
   ]
  },
  {
   "cell_type": "code",
   "execution_count": 59,
   "id": "50a7169b-e256-4eb9-9ecd-d6ba1d67f904",
   "metadata": {},
   "outputs": [],
   "source": [
    "def pickle_read(filename: str):\n",
    "    with open(\"data.pkl\", \"rb\") as f:\n",
    "        loaded_data = pickle.load(f)\n",
    "    return loaded_data\n",
    "def pickle_write(data, filename: str):\n",
    "    with open(filename + \".pkl\", \"wb\") as f:\n",
    "        pickle.dump(data, f)"
   ]
  },
  {
   "cell_type": "code",
   "execution_count": 4,
   "id": "df83ba4b-9d89-41c8-9970-91027f4e903c",
   "metadata": {},
   "outputs": [],
   "source": [
    "def index_documents(knowledge_base_path: str = \"raw-kb\") -> Iterator[Tuple[str, str, int]]:\n",
    "    for filepath in glob.glob(os.path.join(knowledge_base_path, \"*.pdf\")):\n",
    "        filename = os.path.basename(filepath)\n",
    "        with pdfplumber.open(filepath) as pdf:\n",
    "            for idx, page in enumerate(pdf.pages):\n",
    "                yield page.extract_text(), filename, idx"
   ]
  },
  {
   "cell_type": "code",
   "execution_count": 51,
   "id": "6fb1e490-ff45-4d01-a668-4642c36aa86d",
   "metadata": {},
   "outputs": [
    {
     "data": {
      "application/vnd.jupyter.widget-view+json": {
       "model_id": "9e886e3969d7424fb8c0f884e9878c23",
       "version_major": 2,
       "version_minor": 0
      },
      "text/plain": [
       "modules.json:   0%|          | 0.00/349 [00:00<?, ?B/s]"
      ]
     },
     "metadata": {},
     "output_type": "display_data"
    },
    {
     "data": {
      "application/vnd.jupyter.widget-view+json": {
       "model_id": "248e927ad6cb43c39fd3ef90af77a98a",
       "version_major": 2,
       "version_minor": 0
      },
      "text/plain": [
       "config_sentence_transformers.json:   0%|          | 0.00/116 [00:00<?, ?B/s]"
      ]
     },
     "metadata": {},
     "output_type": "display_data"
    },
    {
     "data": {
      "application/vnd.jupyter.widget-view+json": {
       "model_id": "e5b77d93a75d431ca4b85803e0b4ee38",
       "version_major": 2,
       "version_minor": 0
      },
      "text/plain": [
       "README.md: 0.00B [00:00, ?B/s]"
      ]
     },
     "metadata": {},
     "output_type": "display_data"
    },
    {
     "data": {
      "application/vnd.jupyter.widget-view+json": {
       "model_id": "a56192a8211046d4b0cd3aa45939733f",
       "version_major": 2,
       "version_minor": 0
      },
      "text/plain": [
       "sentence_bert_config.json:   0%|          | 0.00/53.0 [00:00<?, ?B/s]"
      ]
     },
     "metadata": {},
     "output_type": "display_data"
    },
    {
     "data": {
      "application/vnd.jupyter.widget-view+json": {
       "model_id": "ace12b3fa3a4482c880522441c845a17",
       "version_major": 2,
       "version_minor": 0
      },
      "text/plain": [
       "config.json:   0%|          | 0.00/571 [00:00<?, ?B/s]"
      ]
     },
     "metadata": {},
     "output_type": "display_data"
    },
    {
     "data": {
      "application/vnd.jupyter.widget-view+json": {
       "model_id": "7c72b84bb7564aa6a89ff7368015df03",
       "version_major": 2,
       "version_minor": 0
      },
      "text/plain": [
       "model.safetensors:   0%|          | 0.00/438M [00:00<?, ?B/s]"
      ]
     },
     "metadata": {},
     "output_type": "display_data"
    },
    {
     "data": {
      "application/vnd.jupyter.widget-view+json": {
       "model_id": "aaf464e60bdc40ba96ed251940bf7dc4",
       "version_major": 2,
       "version_minor": 0
      },
      "text/plain": [
       "tokenizer_config.json:   0%|          | 0.00/363 [00:00<?, ?B/s]"
      ]
     },
     "metadata": {},
     "output_type": "display_data"
    },
    {
     "data": {
      "application/vnd.jupyter.widget-view+json": {
       "model_id": "f03bad30d20142ebb8d68aa48775dc86",
       "version_major": 2,
       "version_minor": 0
      },
      "text/plain": [
       "vocab.txt: 0.00B [00:00, ?B/s]"
      ]
     },
     "metadata": {},
     "output_type": "display_data"
    },
    {
     "data": {
      "application/vnd.jupyter.widget-view+json": {
       "model_id": "194dd5c40c094f9cb20fbffaa033aed5",
       "version_major": 2,
       "version_minor": 0
      },
      "text/plain": [
       "tokenizer.json: 0.00B [00:00, ?B/s]"
      ]
     },
     "metadata": {},
     "output_type": "display_data"
    },
    {
     "data": {
      "application/vnd.jupyter.widget-view+json": {
       "model_id": "24b923f834bd4427aff51877519631de",
       "version_major": 2,
       "version_minor": 0
      },
      "text/plain": [
       "special_tokens_map.json:   0%|          | 0.00/239 [00:00<?, ?B/s]"
      ]
     },
     "metadata": {},
     "output_type": "display_data"
    },
    {
     "data": {
      "application/vnd.jupyter.widget-view+json": {
       "model_id": "01af3671323d4768a23e44f494acf8e2",
       "version_major": 2,
       "version_minor": 0
      },
      "text/plain": [
       "config.json:   0%|          | 0.00/190 [00:00<?, ?B/s]"
      ]
     },
     "metadata": {},
     "output_type": "display_data"
    }
   ],
   "source": [
    "fine_splitter = SentenceTransformersTokenTextSplitter(\n",
    "    model_name=\"all-mpnet-base-v2\", #\"sentence-transformers/all-MiniLM-L6-v2\",\n",
    "    tokens_per_chunk=1024,\n",
    "    chunk_overlap=50\n",
    ")\n",
    "\n",
    "model = fine_splitter._model"
   ]
  },
  {
   "cell_type": "code",
   "execution_count": 69,
   "id": "18622035-555c-4204-966c-f90ee0380338",
   "metadata": {},
   "outputs": [
    {
     "name": "stdout",
     "output_type": "stream",
     "text": [
      "Index created\n"
     ]
    }
   ],
   "source": [
    "try:\n",
    "    #1/0\n",
    "    index = faiss.read_index(\"basic_rag.faiss\")\n",
    "    meta = pickle_read(\"meta\")\n",
    "    print(\"Index readed\")\n",
    "except:\n",
    "    index = faiss.IndexFlatL2(fine_splitter._model[1].word_embedding_dimension)\n",
    "    meta = {}\n",
    "    print(\"Index created\")"
   ]
  },
  {
   "cell_type": "code",
   "execution_count": 96,
   "id": "3479b6fb-8b7f-4f19-9c5e-b0f68d952a67",
   "metadata": {},
   "outputs": [
    {
     "name": "stderr",
     "output_type": "stream",
     "text": [
      "20it [00:11,  2.32it/s]Could get FontBBox from font descriptor because None cannot be parsed as 4 floats\n",
      "Could get FontBBox from font descriptor because None cannot be parsed as 4 floats\n",
      "Could get FontBBox from font descriptor because None cannot be parsed as 4 floats\n",
      "Could get FontBBox from font descriptor because None cannot be parsed as 4 floats\n",
      "Could get FontBBox from font descriptor because None cannot be parsed as 4 floats\n",
      "Could get FontBBox from font descriptor because None cannot be parsed as 4 floats\n",
      "Could get FontBBox from font descriptor because None cannot be parsed as 4 floats\n",
      "Could get FontBBox from font descriptor because None cannot be parsed as 4 floats\n",
      "Could get FontBBox from font descriptor because None cannot be parsed as 4 floats\n",
      "Could get FontBBox from font descriptor because None cannot be parsed as 4 floats\n",
      "Could get FontBBox from font descriptor because None cannot be parsed as 4 floats\n",
      "Could get FontBBox from font descriptor because None cannot be parsed as 4 floats\n",
      "Could get FontBBox from font descriptor because None cannot be parsed as 4 floats\n",
      "21it [00:11,  1.92it/s]Could get FontBBox from font descriptor because None cannot be parsed as 4 floats\n",
      "Could get FontBBox from font descriptor because None cannot be parsed as 4 floats\n",
      "27it [00:12,  5.60it/s]Cannot set gray non-stroke color because /'Paint12' is an invalid float value\n",
      "Cannot set gray non-stroke color because /'Paint13' is an invalid float value\n",
      "68it [00:33,  4.65it/s]Cannot set gray non-stroke color because /'Paint12' is an invalid float value\n",
      "Cannot set gray non-stroke color because /'Paint13' is an invalid float value\n",
      "161it [01:24,  2.32it/s]Could get FontBBox from font descriptor because None cannot be parsed as 4 floats\n",
      "Could get FontBBox from font descriptor because None cannot be parsed as 4 floats\n",
      "Could get FontBBox from font descriptor because None cannot be parsed as 4 floats\n",
      "Could get FontBBox from font descriptor because None cannot be parsed as 4 floats\n",
      "Could get FontBBox from font descriptor because None cannot be parsed as 4 floats\n",
      "Could get FontBBox from font descriptor because None cannot be parsed as 4 floats\n",
      "Could get FontBBox from font descriptor because None cannot be parsed as 4 floats\n",
      "Could get FontBBox from font descriptor because None cannot be parsed as 4 floats\n",
      "Could get FontBBox from font descriptor because None cannot be parsed as 4 floats\n",
      "Could get FontBBox from font descriptor because None cannot be parsed as 4 floats\n",
      "162it [01:24,  2.79it/s]Could get FontBBox from font descriptor because None cannot be parsed as 4 floats\n",
      "Could get FontBBox from font descriptor because None cannot be parsed as 4 floats\n",
      "Could get FontBBox from font descriptor because None cannot be parsed as 4 floats\n",
      "Could get FontBBox from font descriptor because None cannot be parsed as 4 floats\n",
      "Could get FontBBox from font descriptor because None cannot be parsed as 4 floats\n",
      "Could get FontBBox from font descriptor because None cannot be parsed as 4 floats\n",
      "253it [02:12,  1.23it/s]Could get FontBBox from font descriptor because None cannot be parsed as 4 floats\n",
      "Could get FontBBox from font descriptor because None cannot be parsed as 4 floats\n",
      "Could get FontBBox from font descriptor because None cannot be parsed as 4 floats\n",
      "Could get FontBBox from font descriptor because None cannot be parsed as 4 floats\n",
      "Could get FontBBox from font descriptor because None cannot be parsed as 4 floats\n",
      "Could get FontBBox from font descriptor because None cannot be parsed as 4 floats\n",
      "Could get FontBBox from font descriptor because None cannot be parsed as 4 floats\n",
      "Could get FontBBox from font descriptor because None cannot be parsed as 4 floats\n",
      "Could get FontBBox from font descriptor because None cannot be parsed as 4 floats\n",
      "Could get FontBBox from font descriptor because None cannot be parsed as 4 floats\n",
      "Could get FontBBox from font descriptor because None cannot be parsed as 4 floats\n",
      "Could get FontBBox from font descriptor because None cannot be parsed as 4 floats\n",
      "Could get FontBBox from font descriptor because None cannot be parsed as 4 floats\n",
      "Could get FontBBox from font descriptor because None cannot be parsed as 4 floats\n",
      "255it [02:12,  1.91it/s]Could get FontBBox from font descriptor because None cannot be parsed as 4 floats\n",
      "Could get FontBBox from font descriptor because None cannot be parsed as 4 floats\n",
      "381it [03:13,  1.97it/s]\n"
     ]
    },
    {
     "name": "stdout",
     "output_type": "stream",
     "text": [
      "CPU times: user 14min 18s, sys: 4min 33s, total: 18min 52s\n",
      "Wall time: 3min 13s\n"
     ]
    }
   ],
   "source": [
    "%%time\n",
    "document_index = index.ntotal\n",
    "meta = {}\n",
    "for text, filename, page_index in tqdm(index_documents()):\n",
    "    for chunk in fine_splitter.split_text(text):\n",
    "        embeddings = model.encode([chunk])\n",
    "        meta[document_index] = {\"filename\": filename, \"page_index\": page_index, \"text\": chunk}\n",
    "        index.add(embeddings)\n",
    "        document_index += 1\n",
    "faiss.write_index(index, \"basic_rag.faiss\")\n",
    "pickle_write(meta, \"meta\")"
   ]
  },
  {
   "cell_type": "code",
   "execution_count": 97,
   "id": "5bf385f2-478e-4505-9f5f-7e8294986d06",
   "metadata": {},
   "outputs": [
    {
     "data": {
      "text/plain": [
       "', like search, ads, chrome, cloud, youtube and android. contact investor relations : investor - relations @ abc. xyz media : press @ abc. xyz privacy terms about google google products https : / / abc. xyz / 2025 - 0812 / 1 / 1'"
      ]
     },
     "execution_count": 97,
     "metadata": {},
     "output_type": "execute_result"
    }
   ],
   "source": [
    "chunk"
   ]
  },
  {
   "cell_type": "code",
   "execution_count": 98,
   "id": "c09ebd91-4274-4ed7-ab11-a65ddf2be566",
   "metadata": {},
   "outputs": [
    {
     "data": {
      "text/plain": [
       "[0.020318258553743362,\n",
       " 0.022291693836450577,\n",
       " -0.0035374928265810013,\n",
       " 0.0019163294928148389,\n",
       " 0.020228112116456032,\n",
       " -0.004878796171396971,\n",
       " 0.0748341977596283,\n",
       " -0.0152121651917696,\n",
       " 0.05519242212176323,\n",
       " -0.04612845182418823]"
      ]
     },
     "execution_count": 98,
     "metadata": {},
     "output_type": "execute_result"
    }
   ],
   "source": [
    "embeddings[0].tolist()[:10]"
   ]
  },
  {
   "cell_type": "code",
   "execution_count": 99,
   "id": "1f53fa78-3d59-4aa3-b9f6-9549ac5ca738",
   "metadata": {},
   "outputs": [
    {
     "data": {
      "text/plain": [
       "[0.020318258553743362,\n",
       " 0.022291693836450577,\n",
       " -0.0035374928265810013,\n",
       " 0.0019163294928148389,\n",
       " 0.020228112116456032,\n",
       " -0.004878796171396971,\n",
       " 0.0748341977596283,\n",
       " -0.0152121651917696,\n",
       " 0.05519242212176323,\n",
       " -0.04612845182418823]"
      ]
     },
     "execution_count": 99,
     "metadata": {},
     "output_type": "execute_result"
    }
   ],
   "source": [
    "model.encode([chunk])[0].tolist()[:10]"
   ]
  },
  {
   "cell_type": "code",
   "execution_count": null,
   "id": "59cd1b58-4e31-4a2a-9668-824f8da048c6",
   "metadata": {},
   "outputs": [],
   "source": []
  },
  {
   "cell_type": "code",
   "execution_count": 111,
   "id": "ddb6d8d9-cd29-49f7-82ed-2c359648460f",
   "metadata": {},
   "outputs": [
    {
     "name": "stdout",
     "output_type": "stream",
     "text": [
      "[2014 1044 1271 1661 1250 1313  113  114  115 1145]\n"
     ]
    }
   ],
   "source": [
    "scores, indexies = index.search(model.encode([\"Philipp Schindler\"]), k=10)\n",
    "print(indexies[0])\n",
    "#scores, indexies = index.search(embeddings, k=10)"
   ]
  },
  {
   "cell_type": "code",
   "execution_count": null,
   "id": "a6fd7ebe-bf35-4562-8ddc-876128999b43",
   "metadata": {},
   "outputs": [],
   "source": []
  },
  {
   "cell_type": "code",
   "execution_count": 112,
   "id": "815500ee-7ecd-49d8-b0fc-c22186d973d3",
   "metadata": {},
   "outputs": [
    {
     "name": "stdout",
     "output_type": "stream",
     "text": [
      "1.6580353 1271 {'filename': '2024-q2-earnings-transcript.pdf', 'page_index': 11, 'text': \". to prevent any background noise, we ask that you please mute your line once your question has been stated. your first question comes from brian nowak with morgan stanley. your line is now open. brian nowak ( morgan stanley ) : thanks for taking my questions. first, thank you ruth for all of the help and significant impact over the past decade. the first one, it ' s a little bit of a jump ball, i guess, for sundar, philipp or ruth. i guess we ' re sort 12\"}\n",
      "1.7279496 1250 {'filename': '2024-q2-earnings-transcript.pdf', 'page_index': 4, 'text': \"s seat. before i close, i want to acknowledge that today is ruth ' s final earnings call. let me take a moment to thank her for all she has done for google and alphabet as our longest - serving cfo. i ' m excited to continue to work with her in her new role. and i look forward to welcoming our newly appointed cfo, anat ashkenazi. she starts next week, and you ' ll hear from her on our call next quarter. thanks as always to our employees and partners everywhere for a great q2. with that, over to you, philipp. 5\"}\n",
      "1.7592351 1145 {'filename': '2025-q1-earnings-transcript.pdf', 'page_index': 3, 'text': 'leading models, including gemini 2. 5 pro, 2. 5 flash, imagen 3, veo 2, chirp, and lyria. plus open - source and third - party models like llama 4 and anthropic. we are the leading cloud solution for companies looking to the new era of ai agents ; a big opportunity. our agent development kit is a new open - source framework to simplify the process of building sophisticated ai agents and multi - agent systems. and agent designer is a low - code tool to build ai agents and automate tasks in over 100 enterprise applications and systems. we are putting ai agents in the hands of employees at major global companies, like kpmg. with google agentspace, employees can find and synthesize information from within their organization, converse with ai agents, and take action with their enterprise applications. it combines enterprise search, conversational ai or chat and access to gemini and third - party agents. we also offer prepackaged agents across customer engagement, coding, creativity and more that are helping to provide conversational customer experiences, accelerate software development, and improve decision - making. and, of course, google workspace. it delivers more than 2 billion ai assists monthly, including summarizing gmail and refining'}\n"
     ]
    }
   ],
   "source": [
    "for score, idx in list(zip(scores[0], indexies[0])):\n",
    "    if not idx in ii and idx > 1000:\n",
    "        print(score, idx, meta[idx])    "
   ]
  },
  {
   "cell_type": "code",
   "execution_count": 114,
   "id": "08f6498c-5193-49d8-baf4-15a2e576585c",
   "metadata": {},
   "outputs": [],
   "source": [
    "ii = []\n",
    "for idx, m in meta.items():\n",
    "    if 'krisp' in m['text'].lower():\n",
    "        print(m)"
   ]
  }
 ],
 "metadata": {
  "kernelspec": {
   "display_name": "Python 3 (ipykernel)",
   "language": "python",
   "name": "python3"
  },
  "language_info": {
   "codemirror_mode": {
    "name": "ipython",
    "version": 3
   },
   "file_extension": ".py",
   "mimetype": "text/x-python",
   "name": "python",
   "nbconvert_exporter": "python",
   "pygments_lexer": "ipython3",
   "version": "3.12.4"
  }
 },
 "nbformat": 4,
 "nbformat_minor": 5
}
