{
 "cells": [
  {
   "cell_type": "code",
   "execution_count": 1,
   "id": "0b26ac10-8805-4f06-b6aa-c93e25dc4946",
   "metadata": {},
   "outputs": [],
   "source": [
    "from langchain.text_splitter import SentenceTransformersTokenTextSplitter\n",
    "from sentence_transformers import SentenceTransformer, InputExample, losses\n",
    "from langchain_core.documents import Document\n",
    "import glob\n",
    "import os\n",
    "from tqdm import tqdm\n",
    "from typing import Generator, Tuple, Iterator\n",
    "\n",
    "import faiss\n",
    "import numpy as np\n",
    "import pickle\n",
    "from markdown_it import MarkdownIt\n",
    "\n",
    "from flashrank import Ranker, RerankRequest\n",
    "from matplotlib.pylab import plt"
   ]
  },
  {
   "cell_type": "code",
   "execution_count": 2,
   "id": "50a7169b-e256-4eb9-9ecd-d6ba1d67f904",
   "metadata": {},
   "outputs": [],
   "source": [
    "def pickle_read(filename: str):\n",
    "    with open(filename + \".pkl\", \"rb\") as f:\n",
    "        loaded_data = pickle.load(f)\n",
    "    return loaded_data\n",
    "def pickle_write(data, filename: str):\n",
    "    with open(filename + \".pkl\", \"wb\") as f:\n",
    "        pickle.dump(data, f)"
   ]
  },
  {
   "cell_type": "code",
   "execution_count": 3,
   "id": "002bdddb-7d31-4b81-8156-91a98a86207a",
   "metadata": {},
   "outputs": [],
   "source": [
    "RED = '\\033[91m'\n",
    "GREEN = '\\033[92m'\n",
    "YELLOW = '\\033[93m'\n",
    "COLORS = [RED, GREEN, YELLOW]\n",
    "END = '\\033[0m'\n",
    "\n",
    "def print_red(t: str): print(RED + t + END, end='')\n",
    "def print_green(t: str): print(GREEN + t + END, end='')\n",
    "def print_yellow(t: str): print(YELLOW + t + END, end='')\n",
    "_color_iterator_i = 0\n",
    "def print_color(t: str):\n",
    "    global _color_iterator_i\n",
    "    _color_iterator_i += 1\n",
    "    color = COLORS[_color_iterator_i % len(COLORS)]\n",
    "    print(color + t + END, end='')"
   ]
  },
  {
   "cell_type": "code",
   "execution_count": 4,
   "id": "df83ba4b-9d89-41c8-9970-91027f4e903c",
   "metadata": {},
   "outputs": [],
   "source": [
    "def load_documents(knowledge_base_path: str = \"text-kb\") -> Iterator[Document]:\n",
    "    for filepath in glob.glob(os.path.join(knowledge_base_path, \"*.md\")):\n",
    "        filename = os.path.basename(filepath)\n",
    "        original_filename = filename.removesuffix(\".md\") + \".pdf\"\n",
    "        with open(filepath) as f:\n",
    "                yield Document(\n",
    "                    page_content=f.read(),\n",
    "                    metadata={\"source\": original_filename}\n",
    "                )"
   ]
  },
  {
   "cell_type": "code",
   "execution_count": 5,
   "id": "6fb1e490-ff45-4d01-a668-4642c36aa86d",
   "metadata": {},
   "outputs": [],
   "source": [
    "fine_splitter = SentenceTransformersTokenTextSplitter(\n",
    "    model_name=\"all-mpnet-base-v2\", #\"sentence-transformers/all-MiniLM-L6-v2\",\n",
    "    tokens_per_chunk=384,\n",
    "    chunk_overlap=50\n",
    ")\n",
    "\n",
    "model = fine_splitter._model"
   ]
  },
  {
   "cell_type": "code",
   "execution_count": null,
   "id": "843ecd2c-4a30-4504-9ca0-031dd58b0f3d",
   "metadata": {},
   "outputs": [],
   "source": [
    "# def train_examples(gen: Iterator[Tuple[str, str, int]]): Iterator[InputExample]:\n",
    "#     for text, filename, page_index in gen:\n",
    "#         yield InputExample(texts=)\n",
    "\n",
    "# train_dataloader = DataLoader(train_examples, shuffle=True, batch_size=16)\n",
    "# train_loss = losses.CosineSimilarityLoss(model)\n",
    "\n",
    "# model.fit(train_objectives=[(train_dataloader, train_loss)], epochs=1, warmup_steps=100)"
   ]
  },
  {
   "cell_type": "code",
   "execution_count": 6,
   "id": "4a64e468-cabd-4a10-85b5-c14129866f9e",
   "metadata": {},
   "outputs": [
    {
     "data": {
      "text/plain": [
       "768"
      ]
     },
     "execution_count": 6,
     "metadata": {},
     "output_type": "execute_result"
    }
   ],
   "source": [
    "fine_splitter._model[1].word_embedding_dimension"
   ]
  },
  {
   "cell_type": "code",
   "execution_count": 7,
   "id": "5ba8857d-bdab-492f-ae43-27f771668df7",
   "metadata": {},
   "outputs": [],
   "source": [
    "docs = list(load_documents())"
   ]
  },
  {
   "cell_type": "code",
   "execution_count": null,
   "id": "77e9cc32-205b-4c2c-96b3-2f711d2791cc",
   "metadata": {
    "scrolled": true
   },
   "outputs": [],
   "source": [
    "# for i, doc in enumerate(docs):\n",
    "#     print_color(str(i) + \" \")\n",
    "#     print_color(doc.metadata['source'] + \" \")\n",
    "#     print_color(doc.page_content[:1000])\n",
    "#     print()"
   ]
  },
  {
   "cell_type": "code",
   "execution_count": 9,
   "id": "803dd7a9-929f-4147-b22c-0c2faef98da1",
   "metadata": {},
   "outputs": [],
   "source": [
    "fine_splitter = SentenceTransformersTokenTextSplitter(\n",
    "    model_name=\"all-mpnet-base-v2\", #\"sentence-transformers/all-MiniLM-L6-v2\",\n",
    "    tokens_per_chunk=384,\n",
    "    chunk_overlap=0\n",
    ")\n",
    "\n",
    "def table_like(string: str) -> float:\n",
    "    return string.count('|') / len(string)\n",
    "\n",
    "def chunk_strings(strings, max_size: int):\n",
    "    \"\"\"\n",
    "    Join strings into chunks of at most `max_size` characters.\n",
    "    Strings longer than `max_size` are kept as single entries.\n",
    "    \"\"\"\n",
    "    \n",
    "    result = []\n",
    "    current_chunk = \"\"\n",
    "\n",
    "    for tags, s in strings:\n",
    "        if len(s) > max_size:\n",
    "            # stick big table with previous header\n",
    "            if table_like(s) > 0.01:\n",
    "                current_chunk += \"\\n\" + s\n",
    "                result.append(current_chunk)\n",
    "                current_chunk = \"\"\n",
    "            else:\n",
    "                if current_chunk:\n",
    "                    result.append(current_chunk)\n",
    "                    current_chunk = \"\"\n",
    "                # try to separate the big chunk using fine splitter (NN)\n",
    "                ts = fine_splitter.split_text(s)\n",
    "                if len(ts) > 1:\n",
    "                    for t in ts:\n",
    "                        result.append(t)\n",
    "                else:\n",
    "                    result.append(s)\n",
    "        else:\n",
    "            # Check if adding this string would exceed max_size\n",
    "            if current_chunk:\n",
    "                # +1 for space if we already have content\n",
    "                if len(current_chunk) + 1 + len(s) <= max_size:\n",
    "                    current_chunk += \"\\n\" + s\n",
    "                else:\n",
    "                    result.append(current_chunk)\n",
    "                    current_chunk = s\n",
    "            else:\n",
    "                current_chunk = s\n",
    "\n",
    "    if current_chunk:\n",
    "        result.append(current_chunk)\n",
    "\n",
    "    return result\n",
    "\n",
    "def paragraph_parser(doc: Iterator[Document], min_chink_size: int = 500, max_chunk_size: int = 1000) -> Iterator[Document]:\n",
    "    paragraph = [] # header (h2) + text\n",
    "    paragraph_tags = set()\n",
    "\n",
    "    for doc in docs:\n",
    "        md = MarkdownIt()\n",
    "        tokens = md.parse(doc.page_content)\n",
    "        \n",
    "        stack = []\n",
    "        chunk_index = 0\n",
    "        for t in tokens:\n",
    "            if t.type.endswith('_open'):\n",
    "                if t.tag.startswith('h') and len(paragraph_tags) > 1:\n",
    "                    if paragraph:\n",
    "                        full_content = \"\\n\".join([p for _, p in paragraph])\n",
    "                        if len(full_content) > min_chink_size:\n",
    "                            for chunk in chunk_strings(paragraph, max_size=max_chunk_size):\n",
    "                                metadata=doc.metadata.copy()\n",
    "                                metadata['chunk_index'] = chunk_index\n",
    "                                chunk_index += 1\n",
    "                                yield Document(\n",
    "                                    page_content=chunk,\n",
    "                                    metadata=metadata\n",
    "                                )\n",
    "                        paragraph = []\n",
    "                        paragraph_tags = set()\n",
    "                    \n",
    "                stack.append(t.tag)\n",
    "            elif t.type.endswith('_close'):\n",
    "                stack.pop()\n",
    "            elif t.type == 'inline':   \n",
    "                pass\n",
    "            elif t.type == 'html_block' and '<!-- image -->' in t.content:\n",
    "                continue # ignore images\n",
    "            else:\n",
    "                raise RuntimeError(\"Unexpected type: %s\" % t.type)\n",
    "            if t.content:\n",
    "                paragraph.append([\" \".join(stack), t.content])\n",
    "            if t.tag:    \n",
    "                paragraph_tags.add(t.tag)\n",
    "        if paragraph:\n",
    "            full_content = \"\\n\".join([p for _, p in paragraph])\n",
    "            if len(full_content) > min_chink_size:\n",
    "                for chunk in chunk_strings(paragraph, max_size=max_chunk_size):\n",
    "                    metadata=doc.metadata.copy()\n",
    "                    metadata['chunk_index'] = chunk_index\n",
    "                    chunk_index += 1\n",
    "                    yield Document(\n",
    "                        page_content=chunk,\n",
    "                        metadata=metadata\n",
    "                    )"
   ]
  },
  {
   "cell_type": "code",
   "execution_count": null,
   "id": "7d5fbc33-ae98-47b4-825c-59cd9f8c3b0b",
   "metadata": {},
   "outputs": [],
   "source": [
    "hist = [len(doc.page_content) for doc in paragraph_parser(load_documents())]\n",
    "plt.hist(hist, bins=100);  None\n",
    "plt.grid()"
   ]
  },
  {
   "cell_type": "code",
   "execution_count": 10,
   "id": "0b9194c4-f412-454e-85c5-665c6f38ff65",
   "metadata": {},
   "outputs": [],
   "source": [
    "from utils.document_loader import DocumentLoader"
   ]
  },
  {
   "cell_type": "code",
   "execution_count": 11,
   "id": "7be323e5-a4de-4a4b-aa6c-031d66b6476a",
   "metadata": {},
   "outputs": [],
   "source": [
    "docs = list(DocumentLoader().load())"
   ]
  },
  {
   "cell_type": "code",
   "execution_count": null,
   "id": "3a596f2b-bf18-4725-9d19-96ffeeebcc52",
   "metadata": {
    "scrolled": true
   },
   "outputs": [],
   "source": [
    "# for d in docs:\n",
    "#    print_color(str(d) + \"\\n\\n\")"
   ]
  },
  {
   "cell_type": "code",
   "execution_count": null,
   "id": "a17d173f-3bcf-4831-b9aa-93c59fcf4e71",
   "metadata": {},
   "outputs": [],
   "source": [
    "# hist = [len(doc.page_content) for doc in docs]\n",
    "# plt.hist(hist, bins=100);  None\n",
    "# plt.grid()"
   ]
  },
  {
   "cell_type": "code",
   "execution_count": null,
   "id": "5598287b-9dc9-4ad6-b321-8ecd79708c12",
   "metadata": {},
   "outputs": [],
   "source": [
    "print(\"Ratio of huge docs: %.1f %%\" % (100 * len([_ for d in docs if len(d.page_content) > 2000]) / len(docs)))"
   ]
  },
  {
   "cell_type": "code",
   "execution_count": 36,
   "id": "18622035-555c-4204-966c-f90ee0380338",
   "metadata": {},
   "outputs": [
    {
     "name": "stdout",
     "output_type": "stream",
     "text": [
      "Index created\n"
     ]
    }
   ],
   "source": [
    "try:\n",
    "    1/0\n",
    "    index = faiss.read_index(\"basic_rag.faiss\")\n",
    "    meta = pickle_read(\"meta\")\n",
    "    print(\"Index read\")\n",
    "except:\n",
    "    index = faiss.IndexFlatIP(fine_splitter._model[1].word_embedding_dimension)\n",
    "    meta = {}\n",
    "    print(\"Index created\")"
   ]
  },
  {
   "cell_type": "code",
   "execution_count": null,
   "id": "3479b6fb-8b7f-4f19-9c5e-b0f68d952a67",
   "metadata": {},
   "outputs": [],
   "source": [
    "%%time\n",
    "document_index = index.ntotal\n",
    "meta = {}\n",
    "for text, filename, page_index in tqdm(load_documents()):\n",
    "    for chunk in fine_splitter.split_text(text):\n",
    "        embeddings = model.encode([chunk])\n",
    "        # embeddings = embeddings / np.linalg.norm(embeddings, axis=1, keepdims=True)\n",
    "        meta[document_index] = {\"filename\": filename, \"page_index\": page_index, \"text\": chunk}\n",
    "        index.add(embeddings)\n",
    "        document_index += 1\n",
    "faiss.write_index(index, \"basic_rag.faiss\")\n",
    "pickle_write(meta, \"meta\")"
   ]
  },
  {
   "cell_type": "code",
   "execution_count": 431,
   "id": "ddb6d8d9-cd29-49f7-82ed-2c359648460f",
   "metadata": {},
   "outputs": [
    {
     "data": {
      "application/vnd.jupyter.widget-view+json": {
       "model_id": "8d4b0217110e423fbb6c85c9abfe816d",
       "version_major": 2,
       "version_minor": 0
      },
      "text/plain": [
       "Batches:   0%|          | 0/1 [00:00<?, ?it/s]"
      ]
     },
     "metadata": {},
     "output_type": "display_data"
    },
    {
     "name": "stdout",
     "output_type": "stream",
     "text": [
      "[468 604 698 264 226 440 334 115 170 289 252 357 118  44 660  75  80 296\n",
      "  41 632   8 438 171 714 519  15 352  33 524 674 475 342 198  95 454 103\n",
      " 279 200 313 513 324 209 643 277 271 278 151 341 653 647 122 413 607 439\n",
      " 727 163 614 693 611 546 490 291  81 681 382  22  78 204 197 339 117 176\n",
      "  48 191  87 222 608 388 321 692 398 415 245 344 639  24 380 148 340 617\n",
      " 489 173 188   4 657 156 149 379 276  38]\n"
     ]
    }
   ],
   "source": [
    "query = \"philip\"\n",
    "query_embedding = model.encode([query])\n",
    "# query_embedding = query_embedding / np.linalg.norm(query_embedding, axis=1, keepdims=True)\n",
    "scores, indexies = index.search(query_embedding, k=100)\n",
    "print(indexies[0])\n",
    "#scores, indexies = index.search(embeddings, k=10)"
   ]
  },
  {
   "cell_type": "code",
   "execution_count": 432,
   "id": "815500ee-7ecd-49d8-b0fc-c22186d973d3",
   "metadata": {
    "scrolled": true
   },
   "outputs": [
    {
     "name": "stdout",
     "output_type": "stream",
     "text": [
      "0.18007977 468 {'filename': '2024-q3-earnings-transcript.pdf', 'page_index': 15, 'text': 'a lot of efficiencies as well. doug anmuth ( jpmorgan ) : thank you. operator : your next question comes from eric sheridan with goldman sachs. your line is now open. eric sheridan ( goldman sachs ) : thank you for taking the questions. and, anat, congrats on the new role, and welcome to alphabet. sundar, maybe one for you on waymo. what are the key learnings as waymo has rolled out to additional cities, in terms of consumer adoption of the product and how you think about go - to - market strategies for waymo? and then maybe one for philipp. in terms of looking at youtube trends by long - form versus short - form video or shorts, how are you seeing consumption versus monetization trends continue to evolve for youtube, as broken down maybe in that means? thank you. 16'}\n",
      "0.17349394 604 {'filename': '2024-q4-earnings-transcript.pdf', 'page_index': 0, 'text': \"our comments will be on year - over - year comparisons unless we state otherwise. and now i ' ll turn the call over to sundar. sundar pichai, ceo, alphabet and google : thanks, jim. and hello, everyone. we delivered another strong quarter in q4, driven by our leadership in ai and our 1\"}\n",
      "0.16278309 698 {'filename': '2022_Q3_Earnings_Transcript.pdf', 'page_index': 3, 'text': 'delivery trials in ireland. to close, times like this are clarifying. as we head into 2023, we ’ re going to focus on our most important priorities as a company. to support our growth, we will continue to invest responsibly, for the long - term, in a way that is responsive to the current economic environment. i want to thank our employees around the world for their contributions over the last quarter. we help people, our partners and society when we focus on what we do best, and execute on that really well. over to you, philipp. philipp schindler, svp and cbo, google : 4'}\n",
      "0.15630507 264 {'filename': '2024-q1-earnings-transcript.pdf', 'page_index': 18, 'text': \"helping to dimension what we had built over the years. operator : our next question comes from ken gawrelski with wells fargo. your line is now open. ken gawrelski ( wells fargo ) : thank you very much. two, if i may. first on gcp, you had nice acceleration in the quarter. could you talk a little bit about the opportunities and constraints upon gcp ' s ability to continue to address that large addressable market and accelerate growth? is it more sales - oriented? is it more product sales solutions or both? do you plan to address most of these organically, or could a partner approach work for you? and then the second one, just more detail on youtube and sports rights. could you reiterate your view on further live sports rights? there ' s some larger, mostly in the u. s., league rights coming up soon, and will be more over the next several years. could you just talk about your philosophy there beyond nfl sunday ticket? thank you. 19\"}\n",
      "0.1555621 226 {'filename': '2022_Q1_Earnings_Transcript.pdf', 'page_index': 14, 'text': \"jim friedland, director of investor relations : thanks, everyone, for joining us today. we look forward to speaking with you again on our second quarter 2022 call. thank you and have a good evening. operator : thank you. this concludes today ' s conference call. thank you for participating, and you may now disconnect. 15\"}\n",
      "0.15509495 440 {'filename': '2024-q3-earnings-transcript.pdf', 'page_index': 1, 'text': \"leadership. let me take a moment to congratulate demis hassabis and john jumper on winning the nobel prize in chemistry for their work on alphafold. this is an extraordinary achievement and underscores the incredible talent we have, and how critical our world - leading research is to the modern ai revolution, and to our future progress. also, congratulations to geoff hinton, who spent over a decade here, on winning the nobel prize in physics. our research teams also drive our industry - leading gemini model capabilities, including long - context understanding, multimodality, and agentive capabilities. by any measure - token volume, api calls, consumer usage, business adoption - usage of the gemini models is in a period of dramatic growth. and our teams are actively working on performance improvements and new capabilities for our range of models. stay tuned! and they ' re building out experiences where ai can see and reason about the world around you. 2\"}\n",
      "0.15185168 334 {'filename': '2025-q2-earnings-transcript.pdf', 'page_index': 13, 'text': \"look out over the next three to five years. and philipp, when you think about the evolution of youtube, you made a number of comments about subscription revenue. i ' m just curious about how you think about the mix of advertising versus subscription, and what some of your key learnings might have 14\"}\n",
      "0.15117754 115 {'filename': '2025q2-alphabet-earnings-slides.pdf', 'page_index': 0, 'text': 'q2 2025 earnings july 23, 2025'}\n",
      "0.1501767 170 {'filename': '2024-q2-earnings-transcript.pdf', 'page_index': 11, 'text': \"around the world for the innovation and commitment that has enabled us to deliver such extraordinary products and services globally. i also want to thank our investors and analysts for your long term support and your feedback. thank you. sundar, philipp and i will now take your questions. operator : thank you. as a reminder, to ask a question, you will need to press * 1 on your telephone. to prevent any background noise, we ask that you please mute your line once your question has been stated. your first question comes from brian nowak with morgan stanley. your line is now open. brian nowak ( morgan stanley ) : thanks for taking my questions. first, thank you ruth for all of the help and significant impact over the past decade. the first one, it ' s a little bit of a jump ball, i guess, for sundar, philipp or ruth. i guess we ' re sort 12\"}\n",
      "0.14751484 289 {'filename': '2022_Q2_Earnings_Transcript.pdf', 'page_index': 9, 'text': \"from j. p. morgan. one moment. i apologize. one moment while we open the line. please stand by. and, doug, your line is now open. doug anmuth, j. p. morgan : great. thank you. hopefully you can hear me. i want to ask two questions. first, sundar, just in your letter, you talked about how the economic challenges will serve as an opportunity for alphabet to deepen its focus and invest for the long - term. i just wanted to get a sense of how that might change the investment profile and the areas of priority for the company. and then, ruth, i was hoping you could provide some color, perhaps, on how growth trended more through the second quarter, and if you have any comments on what you ' re seeing so far in 3q in july. thanks. sundar pichai, ceo alphabet and google : thanks, doug. you know, as i said to the company, i think it ' s a good time to sharpen our focus. personally, i find moments like these clarifying. it ' s a chance to digest and make sure we are working on the right things as a company with – taking a long - term view, making sure we are continuing to invest in deep 10\"}\n",
      "0.14680588 252 {'filename': '2024-q1-earnings-transcript.pdf', 'page_index': 12, 'text': 'strengthening our overall capital return program. thank you. sundar, philipp and i will now take your questions. operator : thank you. as a reminder, to ask a question, you will need to press * 1 on your telephone. to prevent any background noise, we ask that you please mute your line once your question has been stated. and our first question comes from brian nowak with morgan stanley. please go ahead. brian nowak ( morgan stanley ) : great. thanks for taking my question. i have two. 13'}\n",
      "0.1438947 357 {'filename': '2025-q2-earnings-transcript.pdf', 'page_index': 25, 'text': \"jim friedland, head of investor relations : thanks, everyone, for joining us today. we look forward to speaking to you again on our third quarter 2025 call. thank you, and have a good evening. operator : thank you, everyone. this concludes today ' s conference call. thank you for participating. you may now disconnect. 26\"}\n",
      "0.14104816 118 {'filename': '2025q2-alphabet-earnings-slides.pdf', 'page_index': 3, 'text': '$ 96, 428 $ 40, 000 $ 84, 742 $ 31, 271 $ 30, 000 $ 27, 425 $ 20, 000 $ 10, 000 $ 0 q2 ’ 24 q2 ’ 25 q2 ’ 24 q2 ’ 25 ) mm $ ( seunever ) mm $ ( emocni gnitarepo q2 2025 earnings alphabet revenues and operating income in millions, except percentages ; unaudited $ 100, 000 $ 90, 000 $ 80, 000 $ 70, 000 $ 60, 000 $ 50, 000 y / y growth + 14 % + 14 % operating margin 32. 4 % 32. 4 %'}\n",
      "0.14089644 44 {'filename': '2025q1-alphabet-earnings-slides.pdf', 'page_index': 3, 'text': '$ 90, 234 $ 40, 000 $ 30, 606 $ 80, 539 $ 30, 000 $ 25, 472 $ 20, 000 $ 10, 000 $ 0 q1 ’ 24 q1 ’ 25 q1 ’ 24 q1 ’ 25 ) mm $ ( seunever ) mm $ ( emocni gnitarepo q1 2025 earnings alphabet revenues and operating income in millions, except percentages ; unaudited $ 100, 000 $ 90, 000 $ 80, 000 $ 70, 000 $ 60, 000 $ 50, 000 y / y growth + 15 % + 12 % operating margin 31. 6 % 33. 9 %'}\n",
      "0.13656135 660 {'filename': '2023-q4-earnings-transcript.pdf', 'page_index': 4, 'text': 'we ’ re also improving our machine utilization, building on our years of experience in driving cost efficiencies in our computing infrastructure and operations. and through our supplier efficiency efforts and automation of certain processes, we ’ ve made major improvements in areas like procurement, achieving significant savings. that ’ s a snapshot of the quarter. before i close, a couple other highlights. pixel 8, our ai - first phone, was awarded phone of the year by numerous outlets. it now uses gemini nano, with features like magic compose for google messages and more to come. in our other bets portfolio of companies, waymo, which is deeply focused on safety, reached over 1 million fully autonomous, ride - hailing trips. and isomorphic labs entered into strategic partnerships with eli lilly and novartis to apply ai to treat diseases, which has great potential. 2023 was a year of profound innovation and product momentum. thank you to our many partners. we succeed when our partners do, and we ’ re grateful for the work we do together - - from our partners across the android ecosystem, who were on display at ces ; to our deep relationships with retailers, small businesses and advertising partners ; to the next generation of ai startups and developers, and many more. i also want to thank all of our employees for their hard work throughout 2023 and the start of the new year. i ’ m excited for what ’ s ahead in 2024. philipp. philipp schindler, svp and cbo, google : thanks, sundar. and hi, everyone. google services revenues of $ 76 billion were up 12 % year - on - year. in google advertising, search & other revenues grew 13 % year - on - year, led again by solid growth in the retail vertical. we had particular strength in retail in apac, a trend that began in the second quarter of 2023 and continued through'}\n",
      "0.13383804 75 {'filename': '2025-q1-earnings-transcript.pdf', 'page_index': 0, 'text': \"comments will be on year - over - year comparisons unless we state otherwise. and now, i ' ll turn the call over to sundar. sundar pichai, ceo, alphabet and google : thanks, jim. good afternoon, everyone. we ' re pleased with our strong results this quarter. we continued to see healthy growth and momentum across the business, including ai powering new features. in search, we saw continued double - digit revenue growth. ai overviews is going very well with over 1. 5 billion users per month, and we are excited by the early positive reaction to ai mode. there ' s a lot more to come ahead. 1\"}\n",
      "0.13382947 80 {'filename': '2025-q1-earnings-transcript.pdf', 'page_index': 3, 'text': 'we are getting really positive feedback from early users about its design, fast response time, and ability to understand complex, nuanced questions. we also continue to see significant growth in multimodal queries. circle to search is now available on more than 250 million devices, with usage increasing nearly 40 % this quarter. and monthly visual searches with lens have increased by five billion since october. moving on to cloud. at cloud next, we announced major innovations, and over 500 hundred companies shared the business results they are achieving by working with us. we provide leading cost, performance, and reliability for ai training and inference. this enables us to deliver the best value for ai leaders, like anyscale and contextual ai, as well as global brands like verizon. and for highly sensitive data and regulatory requirements, google distributed cloud and our sovereign ai make gemini available on premises or in country. our vertex ai platform makes over 200 foundation models available, helping customers, like loews, integrate ai. we offer industry - leading models, including gemini 2. 5 pro, 2. 5 flash, imagen 3, veo 2, chirp, and lyria. plus open - source and third - party models like llama 4 and anthropic. we are the leading cloud solution for companies looking to the new era of ai agents ; a big opportunity. our agent development kit is a new open - source framework to simplify the process of building sophisticated ai agents and multi - agent systems. and agent designer is a low - code tool to build ai agents and automate tasks in over 100 enterprise applications and systems. we are putting ai agents in the hands of employees at major global companies, like kpmg. with google agentspace, employees can find and synthesize information from within their organization, converse with ai agents, and take action with their enterprise applications. it combines enterprise search,'}\n",
      "0.132976 296 {'filename': '2022_Q2_Earnings_Transcript.pdf', 'page_index': 13, 'text': \"michael nathanson, moffettnathanson : can i ask one of ruth and sundar, and then one of philipp. for ruth and sundar, given just how strong this company is in terms of balance sheet and profitability, i wonder – what ' s your north star when you think about sharpening your focus? what ' s driving your decision - making? is there an optimal margin you are looking to seek to? or cash generation? i ' m just trying to get - - you know, when you say these things, i know what other companies have to do because they ' re pressured on balance sheets or profitability. so what is the mathematical formula that you are looking for, that you ' re driving towards? and then to philipp, i think people are wondering - - and this is a big question, but the composition of the ad base. and i think people worry that some other companies may really have benefited from a lot of growth in younger, newer companies that were not profitable. can you talk a bit about what you ' re seeing in terms of mix of your composition? is there any shift maybe towards fortune 500 companies that are spending more from a healthier maybe starting base? or anything you can tell us around composition of your ad base. i know it ' s a huge question, but that would be helpful. thanks. sundar pichai, ceo alphabet and google : maybe one thing i will say, through moments like this, look, i think for a few years we ' ve been talking about, particularly in our newer areas, the focus on building sustainable value. and so for me, it ' s a long - term framework. we are obviously - - we have areas where we have been doing this for a long time, like search and so on. but there are newer areas, and we definitely want to make sure while we are investing for the long term\"}\n",
      "0.13290726 41 {'filename': '2025q1-alphabet-earnings-slides.pdf', 'page_index': 0, 'text': 'q1 2025 earnings april 24, 2025'}\n",
      "0.13195616 632 {'filename': '2024-q4-earnings-transcript.pdf', 'page_index': 14, 'text': 'the second one, anat, i think about 90 days ago, you talked about sort of further efficiencies and areas of simplification on the opex space. can you just sort of walk us through some examples of where you see the potential for further efficiencies to the opex space, excluding the d & a step - ups that we have to come in 2025? thanks. sundar pichai, ceo, alphabet and google : thanks, brian. on search, obviously, this has been a long, continual journey. ai overviews has been 15'}\n",
      "0.13170783 8 {'filename': '2023-q2-earnings-transcript.pdf', 'page_index': 4, 'text': \"4 signups for nfl sunday ticket kicked off in april, and we look forward to hosting our first football season on youtube this fall. finally, hardware and android. pixel continues to have strong sales momentum. we introduced new pixel devices at i / o, including pixel fold, pixel tablet and pixel 7a, and we ’ ve had a great response. android 14, our latest os, will incorporate our advances in generative ai to personalize android phones. the pixel and android teams are working together to advance the latest devices. the pixel fold is a great example with its many hardware and software innovations. before i close, you may have seen that we just announced some exciting news that ruth is taking on the important new role of president and chief investment officer. as our longest - serving cfo, she has helped guide the company through an amazing period of growth, a global pandemic and the ongoing economic uncertainty that has followed. i ' m excited to continue to work with ruth, who will lead our 2024 planning and remain as cfo while we do a full search for a successor. so it ’ s business as usual now and no change in approach for the future. i look forward to seeing the impact ruth will have in her new role driving our investments, engaging with our stakeholders and creating opportunities for people and communities everywhere. to close, i ’ m energized by the pace of innovation and the momentum across the company. with 15 products that each serve a half a billion people, and six that serve over 2 billion each, we have so many opportunities to deliver on our mission. thank you to our employees around the world for their great work this quarter. over to you, philipp. philipp schindler, svp and cbo, google : thanks, sundar. and hello, everyone. happy to be here with you all today. let ’ s jump right into our performance for\"}\n",
      "0.13132055 438 {'filename': '2024-q3-earnings-transcript.pdf', 'page_index': 0, 'text': \"on year - over - year comparisons unless we state otherwise. and now i ' ll turn the call over to sundar. sundar pichai, ceo alphabet and google : thank you, jim. and hello, everyone. q3 was another great quarter. the momentum across the company is extraordinary, as you have seen in recent product launches, and as you will hear on the call today. our commitment to innovation, as well as our long - term focus and investment in ai, are paying off and driving success for the company and for our customers. we are uniquely positioned to lead in the era of ai because of our differentiated full stack approach to ai innovation, and we ' re now seeing this operate at scale. it has three components : 1\"}\n",
      "0.1310021 171 {'filename': '2024-q2-earnings-transcript.pdf', 'page_index': 12, 'text': \"of 18 months into this fever pitch around a genai focus in the world. maybe from any of your perspectives, can you sort of talk to us about areas where you ' ve seen faster - than - expected traction, testing, or adoption of some of the generative ai capabilities versus slower - than - expected traction and testing, from a google perspective? and then ruth, appreciate all the comments about structurally re - engineering the opex base. are there any more tangible examples of areas you can talk to us about where you still see further ways to drive more efficiency across the company? thanks. sundar pichai, ceo alphabet and google : brian, thanks. i ' ll take the first part. i think it ' s a good question. obviously, i think there is a time curve in terms of taking the underlying technology and translating it into meaningful solutions across the board, both on the consumer and the enterprise side. definitely on the consumer side, i ' m pleased, as i said in my comments earlier, in terms of how, for a product like search, which is used at scale over many decades, how we ' ve been able to introduce it in a way that it ’ s additive and enhances the overall experience and is positively contributing there. i think across our consumer products, we are seeing progress on the organic side. obviously, monetization is something we will have to earn on top of it. on the enterprise side, i think we are at a stage where there are definitely a lot of models. i think roughly the models are all kind of converging towards a sort of base capabilities but i think where the next wave is working is to build solutions on top of it. and i think there are pockets, be it coding, be it in customer service, et cetera, where we are seeing some of those use cases seeing traction. but i still think there ' s hard\"}\n",
      "0.1304417 714 {'filename': '2022_Q3_Earnings_Transcript.pdf', 'page_index': 11, 'text': \"##dar or ruth. sundar, just to go back to the comment about earlier in the quarter becoming 20 % more efficient. i thought tonight your comment – investing responsibly over the long term, about being responsive to the environment is helpful. but if i look at, sort of the excel sheet, i think you have added about 51, 000 new people to the company since the start of last year. can you give us some examples of internal kpis or quantifiable analysis you ' re running just to ensure you ' re generating roi for investors from all your hiring as you sort of run through these analyses? that ' s the first one. and the second one, philipp, just on shorts, are you seeing shorts lead to incremental time spent from those users? or is it more so you ' re seeing the time shift from other forms of youtube over to shorts? sundar pichai, ceo google : brian, look, i think we gave some - - we ' ve been clear that we are going to moderate our pace of hiring – going into q4 as well as 2023. i think we are seeing a lot of opportunities across a whole set of areas. and every time - - talent is the most precious resource, so we are constantly working to make sure everyone we have 12\"}\n",
      "0.12766111 519 {'filename': '2022_Q4_Earnings_Transcript.pdf', 'page_index': 15, 'text': \"post with bank of america - merrill lynch. your line is open. justin post ( boa - merrill lynch ) : thank you for taking my question. just digging into search, kind of low single digit growth ex - fx, can you talk about the pressures there of volume versus pricing or cpcs? what ' s really driving the slowdown? it ' s kind of almost back to 2009 recession levels. just think about that. and then any signs that we ' re near a bottom? any stabilization in growth rates you can talk about, or how your outlook is for ' 23 on that? thank you. ruth porat, cfo alphabet and google : so overall, as we ' ve indicated, we remain very excited about all that we ' re doing in search, the utility for all of us. and so that ' s why you ' ve heard so many comments about the application of ai and what that means for the ongoing opportunity. you had a number of different questions in there. i think one was on volumes. and in the 10 - k that we ' ll be filing shortly, you ' ll see that for the full year 2022, cpcs were down 1 % versus last 16\"}\n",
      "0.12686464 15 {'filename': '2023-q2-earnings-transcript.pdf', 'page_index': 7, 'text': '##dar, with a huge thank you to googlers everywhere for their incredible passion and hard work, and to our customers and partners for their continued collaboration and trust. ruth, over to you. ruth porat, cfo alphabet and google : thank you, philipp. before i go into the results, first, sundar, thank you very much for the opportunity. i ’ m very excited about the new role, and i look forward to it. so turning to the results. we ’ re very pleased with our financial results for the second quarter, which reflect an acceleration of growth in search and momentum in cloud. my comments will be on year - over - year comparisons for the second quarter, unless i state otherwise. i will start with results at the alphabet level, followed by segment results, and conclude with our outlook. for the second quarter, our consolidated revenues were $ 74. 6 billion, up 7 %, or up 9 % in'}\n",
      "0.12653066 352 {'filename': '2025-q2-earnings-transcript.pdf', 'page_index': 22, 'text': \"bigger picture question, which is : agentic experience, does it democratize the web like search did two decades ago, enabling discovery in the long tail? or does it lead to more concentration with a smaller group of vertical winners? would love it if you could opine on that. thank you. anat ashkenazi, svp and cfo, alphabet and google : okay. on your first question on the cloud second - half outlook, and the comments i previously made with regards to where we ' re going to see the capacity increase. so, obviously, we ' re working hard to bring more capacity online, which means data centers and servers that are coming online, and we see more of an increase towards the back end of the year. 23\"}\n",
      "0.12590446 33 {'filename': '2023-q2-earnings-transcript.pdf', 'page_index': 16, 'text': \"for sundar. philipp, can you talk about the ad market? if you step back, you ' re seeing real signs now of weakness in linear tv, ad agencies, smaller digital companies. they ’ re all slowing. and the macro backdrop ' s definitely cloudy. yet, you guys accelerated your growth this quarter. what factors are you looking at, do you see that would identify why you are growing while others are really struggling and slowing down? and then, sundar, i think you spent over $ 100 billion on r & d over the past five years. and, yet, there ' s a narrative that it ' s so competitive and so expensive to compete going forward. can you talk a bit about how you ' re revisiting that r & d spend? any near - term cadence updates you can\"}\n",
      "0.12539992 524 {'filename': '2022_Q4_Earnings_Transcript.pdf', 'page_index': 18, 'text': \"business and the priorities that we have as we ' re looking at revenue upside and the growth levers there, as well as how to re - engineer our expense base to deliver attractive return. so not really much to add to the comments that you ' ve heard to date, and we ' re continuing to execute across each one of the elements we discussed. brent thill ( jefferies ) : thank you. operator : thank you. and that concludes our question and answer session for today. i ’ d like to turn the conference back over to jim friedland for any further remarks. jim friedland, director investor relations : thanks everyone for joining us today. we look forward to speaking with you again on our first quarter 2023 call. thank you and have a good evening. operator : thank you, everyone. this concludes today ’ s conference call. thank you for participating. you may now disconnect. [ music ] 19\"}\n",
      "0.12512437 674 {'filename': '2023-q4-earnings-transcript.pdf', 'page_index': 11, 'text': 'most pressing challenges. thank you. sundar, philipp and i will now take your questions. operator : thank you. as a reminder, to ask a question you will need to press * 1 on your telephone. to prevent any background noise, we ask that you please mute your line once your question has been stated. and our first question comes from brian nowak with morgan stanley. your line is now open. brian nowak ( morgan stanley ) : great, thanks for taking my questions. i have two for philipp. philipp, the first one is about sort of a lot of the new generative ai advertising tools. you obviously have a lot of irons in the fire here. you have been talking about some of the early momentum with tens of thousands of advertisers. the question is : can you sort of walk us through some of the hurdles and gating factors that we should be thinking through that dictate the pace at which these tools can really be rolled out broadly, just so we and advertisers can get an understanding for when they could have a bigger impact on the whole business? and then secondly, how do you think about the long - term sales force intensity of the advertising business as you roll more ai - based tools like pmax impacting the overall ad allocation? thanks. philipp schindler, svp and cbo, google : thank you so much. so i have covered this a little bit on previous quarters. ai has been at the core of our advertising products for a very, very long time. and the recent advances are really allowing us to drive more value for advertisers across a large range of different areas : bidding, targeting, creative, as well as our core advertiser and publisher experiences. we are seeing in core search ads, for example, the bidding side, the value - based bidding, as a very significant one on the'}\n",
      "0.123606496 475 {'filename': '2024-q3-earnings-transcript.pdf', 'page_index': 19, 'text': \"is now open. michael nathanson ( moffett ) : thanks. i have one for sundar. sundar, there was this perception, and it may have been false, that alphabet was not as innovative on ai as it should. and it clearly shows that was wrong, you are moving pretty quickly rolling out new products. can you talk a bit about how you may have changed your org structure? i know you ' ve combined some assets, but talk a bit about how you maybe rethought how you go - to - market with some of your innovation products and maybe what ' s changed operationally as ai has picked up steam for you guys? sundar pichai, ceo alphabet and google : thanks, michael. look, i definitely think it ' s an extraordinary opportunity. and i think the company, given the important moment, we had to gear up, to build models from scratch that could be productionized at scale on our architecture, and that ' s what the gemini era was about. so there was a fixed cost of getting it all set up and getting the gemini era under way. but now i think we are in much more of a virtuous cycle with a lot of velocity in the underlying models. we ' ve had two generations of gemini models. we are working on the third generation, which is progressing well. and teams internally are now set up much better to consume the underlying model innovation and translate that into innovation within their products. so now, all the seven products, which have 2 billion users each, have done their first versions of incorporating gemini. and there ' s an aggressive roadmap ahead for 2025. i mentioned earlier, search alone, i think there ' s a lot more we can do. and we ' re also enabling smaller teams to ship newer experiences. and notebooklm was the first instantiation of those types of efforts as well. through it\"}\n",
      "0.12310814 342 {'filename': '2025-q2-earnings-transcript.pdf', 'page_index': 17, 'text': \"/ o, you announced a partnership with warby parker to develop glasses. so, i wonder if you ' d share your view of how important a cycle of new devices will be to further scale ai? and do you envision a world in which they ' re more personal and more central to our consumer experience? that ' s one. secondly, how does google search with ai mode usage differ versus gemini standalone app? i ' m wondering, do you see any differences in usage or the types of consumers who go to the app versus those who go to traditional search with ai? thanks. 18\"}\n",
      "0.121916026 198 {'filename': '2022_Q1_Earnings_Transcript.pdf', 'page_index': 3, 'text': '##p and cbo, google : thanks, sundar - and hi everyone. as always, it ’ s great to be with you all. i want to start by echoing sundar - the war in ukraine and the deepening humanitarian crisis across the region is heartbreaking. as with our response during the global pandemic, we remain focused on how we can help. whether it ’ s air raid alerts on android phones to help ukrainians get to safety, refugee centers live on maps, or new attributes that let hotels share if they ’ re offering free or significantly discounted accommodations for those in need or whether it ’ s helping via insights - which enabled ukraine ’ s largest person - to - person marketplace, olx ukraine, to pivot its product strategy nearly overnight to help people find essential products and services. let ’ s take a quick look at our performance this quarter before we dive into the trends that drove it. in google services revenues, we were pleased with the growth in the first quarter – up 20 % year - over - year. retail was again, the largest contributor to year - on - year growth of our ads business in q1, followed by travel. speaking of travel. people are seemingly back on the move – whether they ’ re searching for planes, passports, or their next vacation destination, q1 travel searches were above q1 ‘ 19 pre - pandemic levels. query growth in categories like “ beaches and islands ” were up 27 % vs. 2019, while “ vacation rentals ” rose 37 %. compared to last year, global searches for “ passport online ” jumped 80 %, while searches for “ travel insurance ” surged 2x. we continued to launch new tools to help travel partners re - connect with customers and to help users find the trusted info they need to plan their next trip. in march, free hotel booking links expanded to search and maps - travel partners'}\n",
      "0.12065582 95 {'filename': '2025-q1-earnings-transcript.pdf', 'page_index': 10, 'text': \"business model. thank you. sundar, philipp, and i will now take your questions. operator : thank you. as a reminder, to ask a question, you will need to press * 1 on your telephone. to prevent any background noise, we ask that you please mute your line once your question has been stated. and our first question comes from brian nowak from morgan stanley. your line is now open. brian nowak ( morgan stanley ) : great. thanks for taking my questions. i have two. the first one is sort of the macro advertising backdrop. anat, i know it ' s april 24th, and you call out some factors thinking about the second quarter. any other factors you ' re seeing in 11\"}\n",
      "0.12001625 454 {'filename': '2024-q3-earnings-transcript.pdf', 'page_index': 8, 'text': \"group spans google cloud, ai, android, ads and digital services. this multi - billion dollar partnership will bring these technologies to more than 330 million customers across europe and africa. we ' re collaborating on more than 30 initiatives across seven areas, including generative ai for consumers, a best - in - class tv platform, hardware and cybersecurity. with that, a heartfelt “ thank you ” to googlers everywhere for their extraordinary commitment, and to our customers and partners for their continued collaboration and trust. anat, welcome to the team! it ' s great to have you with us. over to you! anat ashkenazi, svp & cfo, alphabet and google : thank you, philipp. and thanks, sundar, for the words of welcome. my comments will focus on year - over - year comparisons for the third quarter, unless i state 9\"}\n",
      "0.11965708 103 {'filename': '2025-q1-earnings-transcript.pdf', 'page_index': 14, 'text': \"thanks. one for sundar ; one for philipp. sundar, it was disclosed this week in the trial that ' s going on that gemini has 35 million daus. and just curious, that number obviously trails chatgpt by a pretty wide margin. could you just talk about the strategy to get that dau figure much higher that you guys are deploying? and then, philipp, just curious to hear what you ' re seeing on the brand advertising side at youtube in 1q and into early 2q. are brands holding up relatively well, like direct response, or are they starting to react to some of these macro jitters that we ' re all experiencing? any thoughts there? thank you very much. sundar pichai, ceo, alphabet and google : thanks, ross. i think i touched upon this to eric ' s question as well. but we are definitely, i think, there ' s been a lot of momentum in terms of product features we ' ve been introducing. and we are definitely seeing reception, including increased adoption and usage, based on those features. so, i think we are in a good, positive cycle. 15\"}\n",
      "0.11922132 279 {'filename': '2022_Q2_Earnings_Transcript.pdf', 'page_index': 4, 'text': 'relevant, useful content. we ’ ve seen strong momentum with pmax - advertiser adoption is up 5x ytd. sustainable apparel brand rothy ’ s drove a 59 % increase in conversions and 60 % increase in revenue after turning to pmax. by leveraging its creative assets and showing them at scale, rothy ’ s reached more customers in a way it hadn ’ t been able to do before. innovating across search and youtube also remain top priorities. sundar mentioned new 3d ar features - target and wayfair are testing these to help customers see and shop products in real - life. we launched new ad formats for our more visual “ browsy ” search experience. and then there ’ s cool live commerce capabilities like live directs which let creators start a shopping livestream on their channel and then redirect viewers to a brand ’ s channel for more. let ’ s dive deeper into youtube. in the second quarter, the biggest factor in the year - over - year comparison was the lapping of a very strong second quarter in 2021, when we experienced a strong recovery from the impact of covid in early 2020. ruth will provide more details on this later on. 5'}\n",
      "0.1186638 200 {'filename': '2022_Q1_Earnings_Transcript.pdf', 'page_index': 4, 'text': 'comprehensive set of options. and earlier this month, we made it possible for hoteliers to easily share their rates and availability directly on google via business profile. let ’ s talk performance max – our newest ai - powered campaign that allows businesses to harness the best of automation to drive the most optimal performance across all google ads inventory. since launching globally in november, pmax has seen strong customer adoption, particularly among smaller businesses. pmax ’ s simplicity shows how we ’ re moving from a model in which businesses needed to understand a complex language of campaigns, keywords, cpcs, etc. – to a model where we understand a company ’ s goals and actively help them achieve their business objectives. take assistcard, a leading latam travel assistance company, who first tested pmax to accelerate its recovery in argentina. initial tests to drive sales yielded a 40 % lower cost - per - acquisition and a 15x higher conversion rate vs. other campaigns with the same goals. early success led assistcard to rapidly expand pmax to nine other countries including brazil, spain and the u. s. - and significantly increase spend on the new format in 2022. moving onto retail, where we had another strong quarter. consumers are finding a new balance between online and in - person. google maps searches for “ shopping near me ” were up 100 % globally year over year. people want to buy from brands that provide a seamless experience – wherever and whenever they prefer to shop. for local businesses and big - box retailers alike, this remains a big opportunity. omnichannel is still the winning strategy. we ’ re also continuing our investments to make shopping on google as effortless, delightful, and as engaging as possible. with rich, more immersive content - including more visual and browsable results for apparel and fashion searches – and new advancements like multisearch in google search - which launched in beta for shopping'}\n",
      "0.11749342 313 {'filename': '2025-q2-earnings-transcript.pdf', 'page_index': 2, 'text': \"we continue to expand our gemini 2. 5 family of hybrid reasoning models, which provide industry - leading performance in nearly every major benchmark. in addition to improving our popular workhorse model flash, we debuted an extremely fast ‘ flash - lite ’ version. we achieved gold - medal level performance in the international math olympiad, using an advanced version of gemini with deep think. we can ' t wait to bring deep think to users soon. we have some of the best models available today at every price point. our 2. 5 models have been a catalyst for growth, and nine million developers have now built with gemini. i also want to mention veo 3, our state - of - the - art video generation model. it ' s been a viral hit, with people sharing clips created in the gemini app, and with our new ai filmmaking tool, flow. since may, over 70 million videos have been generated using veo 3. and we recently introduced a feature in the gemini app to turn photos into videos, which people absolutely love. it ' s also rolling out to google photos users starting today. third, our products and platforms. we are bringing ai to all our users and partners through surfaces like workspace, chrome, and more. the growth in usage has been incredible. at i / o in may, we announced that we processed 480 trillion monthly tokens across our surfaces. since then, we have doubled that number now processing over 980 trillion monthly tokens, a remarkable increase. the gemini app now has more than 450 million monthly active users and we continue to see strong growth and engagement, with daily requests growing over 50 % from q1. in june alone, over 50 million people used ai - powered meeting notes in google meet. and powered by veo 3, our new short video product in workspace called google vids reached nearly one million monthly active users. this month at samsung galaxy un\"}\n",
      "0.11649698 513 {'filename': '2022_Q4_Earnings_Transcript.pdf', 'page_index': 12, 'text': \"jpmorgan. your line is open. doug anmuth ( jpmorgan ) : thanks for taking the questions. one for sundar and one for ruth. for sundar, could you just talk more about how you can bring the ai products to market with the principles and integrity that you talked about? and how you can do that without kind of sacrificing quality or trust along the way? and then, ruth, clearly the language around re - engineering the cost structure in a durable way and everything that went along with it is different than what we ' ve heard in the past. is there any way at all to help us quantify how you ' re thinking about these efforts? thanks. sundar pichai, ceo google : thanks, doug. on the ai side, it is a really exciting time. i think we ' ve been investing for a while, and it ' s clear that the market is ready. consumers are interested in trying out new experiences. 13\"}\n",
      "0.11648221 324 {'filename': '2025-q2-earnings-transcript.pdf', 'page_index': 8, 'text': \"momentum we are seeing in partnerships, where our customers increasingly recognize the strength and breadth of google ' s ability to help them transform their business with ai. for instance, a new partnership with paypal will improve the digital commerce experience for their merchants and customers. paypal will expand its google cloud adoption for ai - driven recommendations, transaction processing, and enhanced security. the partnership also broadens the availability and functionality of paypal ' s payment services and capabilities across a range of google products. 9\"}\n",
      "0.11644925 209 {'filename': '2022_Q1_Earnings_Transcript.pdf', 'page_index': 8, 'text': \"throughout the first quarter, understanding there ' s some uncertainty around ukraine, et cetera. and then what have you seen sort of quarter to date in the overall search business from a growth perspective? and then the second one for philipp. appreciate all the color around performance max. can you just talk to us a little bit about – strategically about how long we should think about it takes to drive broader adoption of this type of tools with your sales force? is it months, quarters, years? where are you in smb adoption? and how long do you think it takes to get broader and maybe full adoption of a product like that? thanks. ruth porat, cfo alphabet and google : thanks, brian. so in terms of the ad business, i would say, as i did in opening comments, we were very pleased with the year - on - year search revenue growth in the first quarter, up 24 %. and it really – it really reflected the strength that we ' ve seen in retail, as philipp and i commented on. i would say – as you ' re asking how are we looking forward, i would say, the revenue growth rates that we delivered in 2021 in search and across our advertising businesses more generally, as i said in opening comments, did benefit from lapping the covid - related weakness in 2020. so i think one key point is that we ' re not going to have that tailwind for the rest of this year. and as i noted, one of the key areas to focus is q2 of 2020. that was where we had the largest impact from covid. so that means in the second quarter of 2022, we ' re going to face a tough comp, as i said. i would say, in addition, the second - quarter results are going to continue to reflect that we suspended the vast majority of our commercial activities in russia. and then i noted\"}\n",
      "0.11636752 643 {'filename': '2024-q4-earnings-transcript.pdf', 'page_index': 20, 'text': \"to be looking at all that when we make decisions as to how we ' re going to progress capital investments throughout the coming years. operator : your next question comes from mark shmulik with bernstein. your line is now open. mark shmulik ( bernstein ) : thanks for taking the questions. sundar, i just wanted to follow up to brian ' s question from earlier. with your own project mariner efforts and a competitor ' s recent launch, it seems there ' s suddenly really strong momentum on ai consumer agents and kind of catching up to that old google duplex vision. when you look a few years ahead, where do you see consumer agents going? and really, what does it mean to google search, outside of lens? is there room for both to flourish, or will they eventually both be in conflict with each other? thank you. sundar pichai, ceo, alphabet and google : look, i think, first of all, we are definitely seeing a lot of progress in the underlying capabilities of these models. gemini 2. 0 was definitely built with a view of enabling more agentic use cases. so we are definitely seeing progress inside, and i think we ' ll be able to do more agentic experiences for our users. look, i actually think all of this expands the opportunity space. historically, we ' ve had information use cases, but now you can act on your information needs in a much deeper way. it ' s always been our vision when we have talked about google assistant, et cetera. so i think the opportunity space expands. i think there ' s plenty - - it feels very far from a zero - sum game. there ' s plenty of room, i think, for many new types of use cases to flourish. and i think for us, we have a clear sense of additional use cases we can start to tackle for our users in google search. and\"}\n",
      "0.11582242 277 {'filename': '2022_Q2_Earnings_Transcript.pdf', 'page_index': 3, 'text': 'in both good times and uncertain ones, and i want to thank everyone at alphabet and google for their work in support of people, businesses, and all of our partners everywhere. over to you, philipp. philipp schindler, svp and cbo, google : thanks, sundar, and hi everyone, it ’ s always great to be with you all. as sundar indicated, we ’ re as focused as ever on helping businesses navigate complexity and operate from a position of confidence. ai - powered tools, insights and automation are arming customers and partners with the ability to stay agile and responsive - so they can capture short - term opportunities while also building for the long - term. you ’ ve seen our own commitment to the long - term in our latest innovation announcements at i / o, google marketing live, and brandcast. sundar covered a number of these. i ’ ll dive deeper into a few more - including how we ’ re improving our advertising experiences and building simpler, more useful products for our partners. within google services, search delivered strong revenue growth in the second quarter, driven by performance in both travel and retail. 4'}\n",
      "0.11519185 271 {'filename': '2022_Q2_Earnings_Transcript.pdf', 'page_index': 0, 'text': 'turn the call over to sundar. sundar pichai, ceo alphabet and google : thank you, jim, and good afternoon, everyone. i ’ m proud of how our teams continue to build helpful products and experiences for people and partners. reflecting this, our performance in search in the second quarter was strong. we ’ re also seeing momentum in cloud. with an uncertain global economic outlook, our strategy to invest in deep technology and computer science to build helpful products for the long - term, is the right one. our ability to take the long view stems from our timeless mission : to organize the world ’ s information and make it universally accessible and useful. at google i / o in may, i talked about two key ways we move that mission forward : advancing both knowledge and computing. those goals are at the heart of what we do. we know that our services are particularly helpful to people and businesses during uncertain moments - - whether it ’ s using search or youtube to find anything from anywhere. or highly efficient tools like search ads that help businesses of all sizes reach customers. or google cloud, which helps companies adapt to hybrid work and find efficiencies. 1'}\n",
      "0.1148384 278 {'filename': '2022_Q2_Earnings_Transcript.pdf', 'page_index': 4, 'text': 'in travel, users \\' appetite continued to remain strong heading into the summer season. searches for “ places to visit in summer ” were up 2x globally year - over - year while searches for “ last minute hotel deals ” were up 50 %. however, as we ’ ve all seen in the news recently, the travel sector has been experiencing some challenges. as always, we ’ re committed to helping our travel partners navigate this with insights and new tools. then, there ’ s retail - where we had another solid quarter. at gml, we highlighted how we ’ re continuing to innovate to help merchants make the most of how quickly consumer shopping is evolving. like best buy - who ’ s embracing a full omnichannel approach - from measurement to bidding to using omni - ad formats across google. by adopting omni across its local inventory ads portfolio and showcasing curbside and in - store pick - up, best buy increased in - store revenue from google ads by 34 % last year. today ’ s customers expect to shop wherever, whenever - and they care as much about local as they do about finding inspiration for their next purchase online. in q2, searches for \" open now near me \" were up 8x globally yoy, while searches for “ designer outlet ” jumped 90 %. we also saw strong interest in apparel categories like women ’ s clothing and in beauty categories like perfume and fragrances. with ai - powered tools like performance max - which local and smart shopping campaigns will upgrade to in time for the holidays - we ’ re helping businesses move at speed and scale to reach new and existing customers wherever they are in their shopping journey with relevant, useful content. we ’ ve seen strong momentum with pmax - advertiser adoption is up 5x ytd. sustainable apparel brand rothy ’ s drove a 59 % increase in conversions and 60 % increase in revenue after turning to'}\n",
      "0.11481802 151 {'filename': '2024-q2-earnings-transcript.pdf', 'page_index': 2, 'text': 'we are seeing tremendous momentum from our ai investments. more than 1. 5 million developers are now using gemini across our developer tools. and we recently unveiled new models that are more capable and efficient than ever. gemini now comes in four sizes, with each model designed for its own set of use cases. it \\' s a versatile model family that runs efficiently on everything from data centers to devices. at 2 million tokens, we offer the longest context window of any large - scale foundation model to date, which powers developer use cases that no other model can handle. gemini is making google \\' s own products better. all six of our products with more than 2 billion monthly users now use gemini. this means that google is the company that is truly bringing ai to everyone. gemini is powering incredibly helpful features in search, workspace, google messages and more. at i / o, we showed new features coming soon to gmail and to google photos. soon you \\' ll be able to ask photos questions like, \" what did i eat at that restaurant in paris last year? \" for a glimpse of the future, i hope you saw project astra at i / o. it shows multimodal understanding and natural conversational capabilities. we \\' ve always wanted to build a universal agent, and it \\' s an early look at how they can be helpful in daily life. our ai product advances come from our longstanding foundation of research leadership, as well as our global network of infrastructure. in q2, we announced our first data center and cloud region in malaysia, and expansion projects in iowa, virginia and ohio. our tpus are a key bet here, too. trillium is the sixth generation of our custom ai accelerator, and it is our best - performing and most energy - efficient tpu to date. it achieves a near 5x increase in peak compute performance per chip and is 67 % more'}\n",
      "0.11383878 341 {'filename': '2025-q2-earnings-transcript.pdf', 'page_index': 17, 'text': \"being able to do them, but they are a bit slow and costly and take time, and sometimes are brittle, right? but they ' re making progress on all of that. and i think that ' s what we ' ll really unlock, and i expect 2026 to be the year in which people kind of use agentic experiences more broadly. and so, it ' s an exciting opportunity ahead. on the second part, i think when you say a source of internalization, i presume you are talking about how we are using all of this internally. again, given you asked the question about agents, we are now beginning to roll out agentic coding journeys for our software engineers within the company. it ' s been exciting to see, just over the last few months, particularly over the last few weeks, people are definitely doing more agentic workflows and software engineering as well, internally. that ' s a good example of how the same experiences a few months ago had a lot of friction points ; but we are overcoming it and people are beginning to use it internally on the coding side, as well as in certain other areas of the company as well. so, exciting progress. i expect it to be an active area where we will roll out journeys for our users as well, so i look forward to it. brian nowak ( morgan stanley ) : thanks, sundar. that ' s great. operator : our next question comes from michael nathanson with moffettnathanson. your line is now open. michael nathanson ( moffettnathanson ) : thanks. sundar, i have two for you. at i / o, you announced a partnership with warby parker to develop glasses. so, i wonder if you ' d share your view of how important a cycle of new devices will be to further scale ai? and do you envision a world in which\"}\n",
      "0.11320458 653 {'filename': '2023-q4-earnings-transcript.pdf', 'page_index': 0, 'text': 'located at abc. xyz / investor. our comments will be on year - over - year comparisons unless we state otherwise. and now i ’ ll turn the call over to sundar. sundar pichai, ceo alphabet and google : hello, everyone. our results reflect strong momentum and product innovation, continuing into 2024. today i ’ m going to talk about four main topics. one, our investments in ai, including how it ’ s helping search. two, subscriptions, which reached $ 15 billion in annual revenue, up 5x since 2019. subscriptions is growing strongly, powered by youtube premium and music, youtube tv and google one. three, cloud, which crossed $ 9 billion in revenues this quarter and saw accelerated growth, 1'}\n",
      "0.11314956 647 {'filename': '2024-q4-earnings-transcript.pdf', 'page_index': 22, 'text': \"operator : your next question comes from justin post with bank of america. your line is now open. justin post ( bank of america ) : great. thank you. a couple for philipp. you mentioned higher search usage with overviews. just wondering how you ' re feeling about overall search usage. is it accelerating as you integrate more ai? i know there ' s a lot of traffic growth at competitors with ai, but just wondering if you ' re seeing a real increase in total volumes of information gathering. and then second, on youtube, thinking about kind of maybe a move from more professional content to user - generated content, what is that doing for your usage, and how do you think about the margin impact from that? thank you. sundar pichai, ceo, alphabet and google : maybe just on search usage overall, look, our metrics are healthy. we are continuing to see growth in search on a year - on - year basis in terms of overall usage. of course, within that, ai overviews has seen stronger growth, particularly across all segments of users, including in younger users. so it ' s being well - received. but overall, i think through this ai moment, i think search is continuing to perform well. and as i said earlier, we have a lot more innovations to come this year. i think the product will evolve even more. and i think as you make search, as you make it more easy for people to interact and ask followup questions, et cetera, i think we have an opportunity to drive further growth. philipp schindler, svp and cbo, google : and some color on your youtube question. look, youtube ads overall had a very healthy growth in q4, driven by brand, followed by direct response. the u. s. election advertising led brand revenue growth, and we saw nearly double the spending from 2020. i mentioned that\"}\n",
      "0.11282457 122 {'filename': '2025q2-alphabet-earnings-slides.pdf', 'page_index': 7, 'text': '$ 0 q2 ’ 24 ) mm $ ( serutidnepxe latipac q2 2025 earnings alphabet capital expenditures in millions, except percentages ; unaudited $ 25, 000 $ 22, 446 $ 20, 000 $ 17, 197 $ 14, 276 $ 15, 000 $ 13, 186 $ 13, 061 $ 10, 000 $ 5, 000 q3 ’ 24 q4 ’ 24 q1 ’ 25 q2 ’ 25 y / y growth + 91 % + 62 % + 30 % + 43 % + 70 %'}\n",
      "0.112381846 413 {'filename': '2023_Q1_Earnings_Transcript.pdf', 'page_index': 17, 'text': \"profitability and long - term value creation here. mark mahaney ( evercore isi ) : okay. thank you, ruth. operator : thank you. and our last question will come from colin sebastian from baird. please go ahead. colin sebastian ( baird ) : great. thank you. two from me as well. for sundar, the consolidation of the ai teams, i think you talked about that helping to accelerate innovation. so i ' m curious specifically with that consolidation, what are the product milestones that we should look out for related to that? and then, philipp, regarding your comments on retail, specifically on shopping and payments, how should we think about that evolving across the platform this year? maybe similarly, what are some milestones we should look out for on that front? thank you. sundar pichai, ceo alphabet and google : thanks. i ' m quite excited by bringing two world - class teams – i think of – both brain and deepmind – their collective accomplishments in ai over the last decade have really set the stage for this moment. and so both getting access to pooled talent so that they can work together in a coordinated way 18\"}\n",
      "0.110770114 607 {'filename': '2024-q4-earnings-transcript.pdf', 'page_index': 2, 'text': \"places like south carolina, indiana, missouri and around the world. we also announced plans for seven new subsea cable projects, strengthening global connectivity. our leading infrastructure is also among the world ' s most efficient. google data centers deliver nearly four - times more computing power per unit of electricity compared to just five years ago. these efficiencies, coupled with the scalability, cost and performance we offer, are why organizations increasingly choose google cloud ’ s platform. in fact, today, cloud customers consume more than eight times the compute capacity for training and inferencing compared to eighteen months ago. we ' ll continue to invest in our cloud business to ensure we can address the increase in customer demand. second, world - class research including models. in december, we unveiled gemini 2. 0, our most capable ai model yet, built for the agentic era. we launched an experimental version of gemini 2. 0 flash, our workhorse model with low latency and enhanced performance. flash has already rolled out to the gemini app. and tomorrow we ’ re making 2. 0 flash generally available for developers and customers, along with other model updates, so stay tuned. late last year, we also debuted our experimental gemini 2. 0 flash thinking model. the progress to scale thinking has been super fast, and the reviews so far have been extremely positive. we are working on even better thinking models and look forward to sharing those with the developer community soon. gemini 2. 0 ' s advances in multimodality and native tool use enable us to build new agents that bring us closer to our vision of a universal assistant. one early example is deep research. it uses agentic capabilities to explore complex topics on your behalf, and give key findings, along with sources. it launched in gemini advanced in december and is rolling out to android users all over the world. we are seeing great product momentum with our consumer\"}\n",
      "0.10999809 439 {'filename': '2024-q3-earnings-transcript.pdf', 'page_index': 1, 'text': \"first, a robust ai infrastructure that includes data centers, chips and a global fiber network. second, world class research teams who are advancing our work with deep, technical ai research, and who are also building the models that power our efforts. and third, a broad global reach through products and platforms that touch billions of people and customers around the world, creating a virtuous cycle. let me quickly touch on each of these. we continue to invest in state - of - the - art infrastructure to support our ai efforts, from the u. s. to thailand to uruguay. we ' re also making bold clean energy investments, including the world ' s first corporate agreement to purchase nuclear energy from multiple small modular reactors, which will enable up to five hundred megawatts of new 24 / 7 carbon - free power. we ' re also doing important work inside our data centers to drive efficiencies, while making significant hardware and model improvements. for example, we shared that since we first began testing ai overviews, we ' ve lowered machine costs per query significantly. in eighteen months, we reduced costs by more than 90 % for these queries through hardware, engineering, and technical breakthroughs, while doubling the size of our custom gemini model. and of course, we use, and offer our customers, a range of ai accelerator options, including multiple classes of nvidia gpus and our own custom - built tpus. we ' re now on the sixth generation of tpus, known as trillium, and continue to drive efficiencies and better performance with them. turning to research, our team at google deepmind continues to drive our leadership. let me take a moment to congratulate demis hassabis and john jumper on winning the nobel prize in chemistry for their work on alphafold. this is an extraordinary achievement and underscores the incredible talent we have, and how\"}\n",
      "0.10938157 727 {'filename': '2022_Q3_Earnings_Transcript.pdf', 'page_index': 18, 'text': \"in july, we launched a number of new settings, including a seasonality setting that lets marketers make quite atypical adjustments for seasonal campaign bidding, and an optimization score setting that gives an indicator for performance improvement and gives recommendations for better results. so all in all, we ' re excited about what ' s ahead for pmax, the further simplification of our products in general and, frankly, the value we can keep driving for businesses of all sizes, especially when they need it most. maria ripps, canaccord : great. thanks so much for the color. operator : thank you. our next question comes from justin post of bank of america. justin post, your line is open. justin post, bofa merrill lynch : i guess a follow - up about artificial intelligence. first, capex is up 31 % year - over - year. can you talk a little bit about what ' s driving that? can that be pulled back a bit? is that cloud or really building up ai capabilities? and then, maybe sundar, as you think about search where it is today - - and you have much better visibility on ai capabilities than we do - - how can some of those capabilities be mixed into search? and when would we as investors maybe see some of those benefits? thank you. sundar pichai, ceo google : thanks, justin. look, i think on the ai front, we are still in very early innings. we have been very good about, as our research teams are making progress, bringing it into search. so pretty much the transformer - based models, including bert and mum, are in search now. it ' s driven a massive improvement in search quality and helped us extend the lead in quality over other products. we are definitely using it to make it multimodal, and i think going back to some of the earlier questions about making sure search\"}\n",
      "0.10887055 163 {'filename': '2024-q2-earnings-transcript.pdf', 'page_index': 8, 'text': \"one last time, it ' s over to you. ruth porat, president and chief investment officer ; cfo, alphabet and google : thank you, philipp. and thanks, sundar, for those kind words. we had another strong quarter, driven in particular by performance in search and cloud, as well as the ongoing efforts to durably re - engineer our cost base. my comments will be on year - over - year comparisons for the second quarter, unless i state otherwise. i will start with results at the alphabet level, followed by segment results, and conclude with our outlook. for the second quarter, our consolidated revenues were $ 84. 7 billion, up 14 %, or up 15 % in constant currency. search remained the largest contributor to revenue growth. in terms of expenses, total cost of revenues was $ 35. 5 billion, up 11 %. other cost of revenues was $ 22. 1 billion, up 14 %, with the increase driven primarily by content acquisition costs, followed by depreciation as well as the impact of the canadian digital services tax which was applied retroactively. operating expenses were $ 21. 8 billion, up 5 %, primarily reflecting an increase in r & d, partially offset by a decline in g & a, with sales and marketing essentially flat to the second quarter last year. the increase in r & d was driven primarily by compensation, which was affected by lapping a reduction in valuation - based compensation liabilities in certain other bets in the second quarter last year, followed by depreciation. the largest single factor in the year - on - year decline in g & a expenses was lower charges related to legal matters. operating income was $ 27. 4 billion, up 26 %, and our operating margin was 32 %. net income was $ 23. 6 billion, and eps was $ 1. 89. we delivered free cash flow of $ 13.\"}\n",
      "0.1087637 614 {'filename': '2024-q4-earnings-transcript.pdf', 'page_index': 5, 'text': \"in tokyo for their first international road trip. we are also developing the sixth - generation waymo driver, which will significantly lower hardware costs. i want to thank our employees around the world for another great quarter. 2025 is going to be exciting, and we are all ready for it. philipp, i ' ll hand it over to you. philipp schindler, svp and cbo, google : thanks, sundar. and hello, everyone. 6\"}\n",
      "0.10787046 693 {'filename': '2022_Q3_Earnings_Transcript.pdf', 'page_index': 1, 'text': 'our q4 headcount additions will be significantly lower than q3. and as we plan for 2023, we ’ ll continue to make important trade - offs where needed, and are focused on moderating operating expense growth. throughout google ’ s history, periods of dedicated focus have enabled us to emerge strongly, and unleash new eras of computing innovation. for example, over a decade ago, focusing the company ’ s efforts on mobile helped us to build and grow our business for the shift to mobile computing. we ’ re at a similar point now with ai, another transformational technology. our investments in ai and deep computer science mean that we can deliver a wide range of breakthroughs across our products and services, to help people, businesses, and communities. turning to the quarter. first, our core information products. at our search on event, we shared how we ’ re using ai advances to deliver a more natural and intuitive search experience. these advancements will soon help to surface things you might find helpful, before you ’ ve even finished typing. we ’ re also making visual search more natural than ever before. people now use google lens to answer more than 8 billion questions every month, using just a photo or an image. now, we ’ re supercharging our visual search capabilities to help people find what they ’ re looking for at businesses nearby. philipp will also talk in more detail about our work to make it easier to shop on google, a key focus. google lens also has an amazing translation feature. it can now blend translated text seamlessly into the background of images - - like menus or street signs - - in just one hundred milliseconds ; shorter than the blink of an eye. through advanced language models, ai is unlocking new experiences that support more natural and conversational ways to interact with computing. lamda is one of our most promising models for this.'}\n",
      "0.10779025 611 {'filename': '2024-q4-earnings-transcript.pdf', 'page_index': 4, 'text': \"we continue to see strong growth across our broad portfolio of ai - powered cloud solutions. it begins with our ai hypercomputer, which delivers leading performance and cost across both gpus and tpus. these advantages help citadel with modeling markets and training, and enabled wayfair to modernize its platform, improving performance and scalability by nearly 25 %. in q4, we saw strong uptake of trillium, our sixth - generation tpu, which delivers four - times better training performance and three - times greater inference throughput compared to the previous generation. we also continue our strong relationship with nvidia. we recently delivered their h200 base platforms to customers. and just last week, we were the first to announce a customer running on the highly - anticipated blackwell platform. our ai developer platform, vertex ai, saw a 5x increase in customers year - over - year, with brands like mondelez international and wpp building new applications and benefiting from our 200 + foundation models. vertex usage increased 20x during 2024, with particularly strong developer adoption of gemini flash, gemini 2. 0, imagen 3 and most recently, veo. we ' re also seeing strong growth in our ai - powered databases, data analytics and cybersecurity platforms. customers including radisson hotels are now using gemini to search and analyze multimodal data from across multiple clouds. our ai - powered threat intelligence and security operations products help customers, including vodafone and astrazeneca, identify, protect, and different [ iate ] against threats. our growing portfolio of ai applications is also seeing strong customer adoption. in q4, we introduced google agentspace, which helps enterprises synthesize data with google - quality search, create gemini - powered agents and automate transactions for employees. in addition, we recently gave all google workspace business and enterprise customers access to all of\"}\n",
      "0.107417695 546 {'filename': '2023-q3-earnings-transcript.pdf', 'page_index': 0, 'text': '- over - year comparisons unless we state otherwise. and now i ’ ll turn the call over to sundar. sundar pichai, ceo alphabet and google : thank you, jim. and hello, everyone. i ’ m pleased with our business results this quarter, which demonstrate strong growth in search and youtube, and momentum in cloud. google turned 25 in september, which offered an opportunity to reflect on our progress over the last quarter century, and to look ahead to the opportunities enabled by ai we are so excited and confident about. our product momentum continued this quarter, as you saw with cloud next, made on youtube and made by google. it ’ s all part of our focus on making ai more helpful for everyone, and we are making good progress across the four areas that we shared last quarter. first, improving knowledge and learning. this includes our work with the search generative 1'}\n",
      "0.10676435 490 {'filename': '2022_Q4_Earnings_Transcript.pdf', 'page_index': 1, 'text': \"first, the ai opportunity ahead. ai is the most profound technology we are working on today. our talented researchers, infrastructure and technology make us extremely well - positioned as ai reaches an inflection point. more than six years ago, i first spoke about google being an ai - first company. since then, we ’ ve been a leader in developing ai. in fact, our transformers research project and our field - defining paper in 2017, as well as our path - breaking work in diffusion models, are now the basis of many of the generative ai applications you ' re starting to see today. translating these kinds of technical leaps into products that help billions of people is what our company has always thrived on. everyone working on the various projects underway is excited. we ’ ll pursue this work boldly, but with a deep sense of responsibility, with our ai principles and the highest standards of information integrity at the core of all our work. we ’ ve been preparing for this moment since early last year, and you ’ re going to see a lot from us in the coming few months across three big areas of opportunity. first, large models. we ’ ve published extensively about lamda and palm, the industry ’ s largest, most sophisticated model, plus extensive work at deepmind. in the coming weeks and months, we ’ ll make these language models available, starting with lamda, so that people can engage directly with them. this will help us continue to get feedback, test and safely improve them. these models are particularly amazing for composing, constructing and summarizing. they will become even more useful for people as they provide up - to - date, more factual information. and in search, language models like bert and mum have improved search results for four years now, enabling significant ranking improvements and multimodal search like google lens. very soon, people will be able to interact directly with our newest,\"}\n",
      "0.10675887 291 {'filename': '2022_Q2_Earnings_Transcript.pdf', 'page_index': 10, 'text': \": brian. brian nowak, morgan stanley : can you hear me okay? hello? operator : yes, your line is open. brian nowak, morgan stanley : great. thanks for taking my question. sundar, i just wanted to follow up on the last question a little bit. i think the tone around investment for the year changed somewhat over the course of the last few weeks. we have kind of gone through july and heard about slowing of hiring, and now a reported hiring pause. you mentioned, just recently, you ' re finding moments like these to sort of optimize spend. can you just talk to – what are you seeing in your business specifically on the advertising side or the cloud side that is sort of saying – now is when we really do need to make sure we ' re optimizing? are you seeing pull - backs? or is it more sort of just you ' re seeing the macro - economic headlines and wanting to get ahead of it? sundar pichai, ceo alphabet and google : thanks, brian. i think ruth gave color on what we are talking about as uncertainty. i think - - i think we see that as well. all of us are reacting to quite - - quite a varying set of dynamics, and it ' s tough to summarize it because the factors - - 11\"}\n",
      "0.10668306 81 {'filename': '2025-q1-earnings-transcript.pdf', 'page_index': 3, 'text': 'the hands of employees at major global companies, like kpmg. with google agentspace, employees can find and synthesize information from within their organization, converse with ai agents, and take action with their enterprise applications. it combines enterprise search, conversational ai or chat and access to gemini and third - party agents. we also offer prepackaged agents across customer engagement, coding, creativity and more that are helping to provide conversational customer experiences, accelerate software development, and improve decision - making. and, of course, google workspace. it delivers more than 2 billion ai assists monthly, including summarizing gmail and refining docs. lastly, our cybersecurity products are helping organizations detect, investigate, and respond to cybersecurity threats. our expertise, coupled with integrated gemini ai advances, detects 4'}\n",
      "0.10652681 681 {'filename': '2023-q4-earnings-transcript.pdf', 'page_index': 14, 'text': \"in search. and over time, we think assistant will be very complementary. and we will again use generative ai there, particularly with our most advanced models in bard. and allows us to act more like an agent over time, if i were to think about the future, and maybe, you know, go beyond answers and follow through for users even more. so that is directionally what the opportunity set is, obviously a lot of execution ahead. but it ' s an area where i think we have a deep sense of what to do. and all the work we have taken so far, the feedback has been super positive. ruth porat, president and chief investment officer ; cfo, alphabet and google : and then in terms of your other question. so on the real estate charge, the $ 1. 2 billion in exit charges related to real estate, that is in alphabet - level activities. but the other comment i was making in opening comments is when you go through the various line items, r & d, et cetera, you see it spread there. and we have a table, and ir can walk anybody through the technicals on that just to understand how it then gets arrayed across the various lines in the p & l. operator : our next question comes from michael nathanson with moffettnathanson. your line is now open. 15\"}\n",
      "0.105972074 382 {'filename': '2023_Q1_Earnings_Transcript.pdf', 'page_index': 2, 'text': \"on to my second theme, the company ’ s sharpened focus. i spoke last quarter about our commitment to invest responsibly and with discipline and to find areas where we can operate more cost effectively and with greater velocity. we have significant multi - year efforts underway to create savings, such as improving machine utilization and finding more scalable and efficient ways to train and serve machine learning models. we are making our data centers more efficient, redistributing workloads and equipment where servers aren ' t being fully used. this is important work as we continue to significantly invest in infrastructure to drive our many ai opportunities. improving external procurement is another area where data suggests significant savings, and this work is underway. and we are taking concrete steps to manage our real estate portfolio to ensure it meets our current and future needs. we will continue to use data to determine additional areas for durable savings. next, google cloud. i ’ m pleased with the ongoing momentum in cloud. our disciplined expansion of our product roadmap and go - to - market organization has helped to build one of the largest enterprise software companies in the world. we have consistently grown top - line revenues and improved annual operating margins, and we continued to do so this quarter. our growth has come from our deep relationships with large enterprises, our strong partner ecosystem and our product leadership. over the past three years, gcp ’ s annual deal volume has grown nearly 500 %, with large deals over $ 250 million, growing more than 300 %. nearly 60 % of the world ’ s 1, 000 largest companies are google cloud customers. 1 and many leading startups and millions of small and medium enterprises use google cloud. we have also built a strong partner ecosystem. over the last four years, the number of google cloud partner certified practitioners around the world has increased more than 15 times. the largest global system integrators have built 13 dedicated practices\"}\n",
      "0.10547983 22 {'filename': '2023-q2-earnings-transcript.pdf', 'page_index': 11, 'text': \"our first question comes from brian nowak of morgan stanley. please go ahead. brian nowak ( morgan stanley ) : thanks for taking my questions. i have two. the first one for 11 sundar. sundar, i would be curious to learn about some of your early learnings and surprises around consumer behavior on how people are using bard versus search. and what new behaviors or consumer utility are you most excited about as you think about what gemini could provide for people over the course of the next year or so? and then the second one for ruth. ruth, congrats on the new position. one question just about the durable expense comments. i think last quarter you talked about the idea that expenses could grow slower than revenue in 2024. is that still the right way to think about it? and just to confirm, does that include the impact of depreciation in those comments? thanks. sundar pichai, ceo alphabet and google : thanks, brian. i ' ll take the first part. it ' s definitely early days, but both across bard and search generative experience, feedback has been very positive from our users. i think we are definitely now able to serve, i would say, deeper and broader information use cases, which is very exciting. i wouldn ' t say surprise. so, for example, people really using it for coding is something we understood, but it ' s definitely on the new side. there ' s a lot of excitement around we integrated google lens into bard. we have known how big google lens can be. we see that in the visual searches. we get, then, how much it has grown over the last two years, since we ' ve been doing this for a while. but definitely that and bard has been super well - received, so which gives me a sense that as - - given gemini is being built from the ground up to be multimo\"}\n",
      "0.10507351 78 {'filename': '2025-q1-earnings-transcript.pdf', 'page_index': 2, 'text': \"our latest image and video generation models, imagen 3 and veo 2, are rolling out broadly and are powering incredible creativity. turning to open models, we launched gemma 3 last month, delivering state - of - the - art performance for its size. gemma models have been downloaded more than 140 million times. lastly, we are developing ai models in new areas where there ' s enormous opportunity. for example, our new gemini robotics models. and in health, we launched ai co - scientist, a multi - agent ai research system, while alphafold has now been used by over 2. 5 million researchers. third, turning to products and platforms. all 15 of our products with a half a billion users now use gemini models. android and pixel are two examples of how we are putting the best ai in people ' s hands, making it super easy to use ai for a wide range of tasks, just by using their camera, voice, or taking a screenshot. we are upgrading google assistant on mobile devices to gemini ; and later this year, we ' ll upgrade tablets, cars and devices that connect to your phone, such as headphones and watches. the pixel 9a launched to very strong reviews, providing the best of google ' s ai offerings, like gemini live and ai - powered camera features. and gemini live camera and screen sharing is now rolling out to all android devices, including pixel and samsung s25. now, moving on to key highlights from across search, cloud, youtube and waymo. first, search. ai is one of the most revolutionary technologies for enabling and expanding our information mission. and for search, we see it growing the number and types of questions we can answer. we ' re already seeing this with ai overviews, which now has more than 1. 5 billion users every month. nearly a year after we launched ai overviews in the u. s., we continue\"}\n",
      "0.10500991 204 {'filename': '2022_Q1_Earnings_Transcript.pdf', 'page_index': 5, 'text': ', sales, and many support teams - thank you! your relentless focus on helping our users, customers and partners makes our success possible. now, over to ruth. ruth porat, cfo alphabet and google : thank you, philipp. we had a strong first quarter, with revenue growth led again by search and cloud. my comments will be on year - over - year comparisons for the first quarter, unless i state otherwise. i will start with results at the alphabet level, followed by segment results, and conclude with our outlook. for the first quarter, our consolidated revenues were $ 68. 0 billion, up 23 %, or up 26 % in constant currency. our total cost of revenues was $ 29. 6 billion, up 23 %, primarily driven by other cost of revenues, which was $ 17. 6 billion, up 22 %. the biggest factors here were : costs associated with data centers and other operations ; followed by content acquisition costs, primarily driven by costs for subscription content and then costs for youtube ’ s advertising - supported content. operating expenses were $ 18. 3 billion, up 24 %. headcount growth was the primary driver of expense across all 3 categories : research & development, sales & marketing and g & a. growth in sales & marketing also reflects an increase in advertising and promo expense as we ramped back from the lower levels of spend last year. operating income was $ 20. 1 billion, up 22 % and our operating margin was 30 %. 6'}\n",
      "0.10464966 197 {'filename': '2022_Q1_Earnings_Transcript.pdf', 'page_index': 3, 'text': 'these innovations are helping employees adapt to hybrid work at large enterprises like equifax and ocean network express, digital natives including flipkart, and organizations like the university of alberta. finally, our other bets. this month, waymo became the first company to run fully autonomous ride - hailing operations in multiple locations simultaneously. today, employees can take rider - only trips in san francisco, joining the growing number of public waymo one riders in phoenix. wing launched its on - demand drone deliveries in the dallas - fort worth area. in the first quarter of 2022, wing completed over fifty thousand commercial deliveries. that ’ s up more than 3x year - over - year. as you know, sustainability continues to be a big focus for us. in addition to our own ambitious goals to operate on 24 / 7 carbon - free energy by 2030, we recently joined frontier, a new coalition with stripe and many others, jointly committing more than nine hundred million dollars to accelerate carbon removal solutions. before i close … we remain deeply concerned about the war in ukraine, and the humanitarian crisis unfolding in the region. while i was in warsaw, poland last month, i met with many leaders across central and eastern europe to reaffirm our commitment to the region. we ’ re finding ways for our products and platforms to be helpful, including enhanced features on search to help refugees find resources. across all of these efforts, i feel inspired by the ways that our teams at google work to help people in moments big and small. with that, let me thank googlers everywhere for their contributions this quarter. over to you, philipp. philipp schindler, svp and cbo, google : thanks, sundar - and hi everyone. as always, it ’ s great to be with you all. i want to start by echoing sundar - the war in ukraine and the deepening humanitarian crisis across the'}\n",
      "0.103913665 339 {'filename': '2025-q2-earnings-transcript.pdf', 'page_index': 16, 'text': \"broad conclusions solely based on these metrics. doug anmuth ( jpmorgan ) : thank you both. operator : our next question comes from brian nowak with morgan stanley. your line is now open. brian nowak ( morgan stanley ) : thanks for taking my questions. i have two. the first one, sundar, there ' s a lot of discussion about agentic search for commercial activities and agents that can be broadly deployed. maybe, can you just, from a technology perspective, when you sit down with the engineering teams working on some of these new agentic capabilities that could come, what are some of the predominant technological hurdles that you think need to be cleared in order to launch scalable agents for commercial queries, is the first one. and the second one, i think in the past, you ' ve updated us on stats on sources of internal efficiency you ' ve seen from gen ai - enabled capabilities. any updates there? and any sort of learnings on friction points that also need to be overcome for some of these internal tools with gen ai? thanks. sundar pichai, ceo, alphabet and google : thanks, brian. let me start with the first one on agentic capabilities. look, overall, we are definitely, in many ways, when we built our series of 2. 5 models, particularly with pro, et cetera, it ' s the direction where we are investing the most. there ' s definitely exciting progress, including in the models we haven ' t fully released yet. the main gaps we are all trying to do is ; you ' re obviously chaining a sequence of events, and so, being able to do it reliably ; the latency compounds, the cost compounds. and being able to do it reliably in a way for the users. all of this comes together. in each of this, we are making progress and it\"}\n",
      "0.10289068 117 {'filename': '2025q2-alphabet-earnings-slides.pdf', 'page_index': 2, 'text': \"q2 2025 earnings alphabet income statement in millions, except percentages and eps ; unaudited q2 ' 24 q2 ' 25 y / y revenues $ 84, 742 $ 96, 428 14 % costs and expenses : cost of revenues 35, 507 39, 039 10 % research and development 11, 860 13, 808 16 % sales and marketing 6, 792 7, 101 5 % general and administrative 3, 158 5, 209 65 % total costs and expenses 57, 317 65, 157 14 % income from operations 27, 425 31, 271 14 % other income ( expense ), net 126 2, 662 2013 % income before income taxes 27, 551 33, 933 23 % provision for income taxes 3, 932 5, 737 46 % net income $ 23, 619 $ 28, 196 19 % diluted eps $ 1. 89 $ 2. 31 22 %\"}\n",
      "0.10235422 176 {'filename': '2024-q2-earnings-transcript.pdf', 'page_index': 14, 'text': '. s. and they will have the opportunity to actually appear within the ai overview in a section clearly labeled as \" sponsored \" when they \\' re relevant to both the query and the information in the ai overview, really giving us the ability to innovate here and take this to the next level. doug anmuth ( jpmorgan ) : thank you. best of luck, ruth, in your new role. ruth porat, president and chief investment officer ; cfo, alphabet and google : thank you. operator : our next question comes from michael nathanson with moffettnathanson. please go ahead. michael nathanson ( moffettnathanson ) : thanks. i have two, one for sundar and one for philipp. sundar, on the decision this week to not deprecate cookies, i know it \\' s been a long journey, can you talk a bit about what we should expect in terms of your experience in chrome? and why the company made the decision not to go down the path of deprecating cookies? 15'}\n",
      "0.1021626 48 {'filename': '2025q1-alphabet-earnings-slides.pdf', 'page_index': 7, 'text': '$ 0 q1 ’ 24 q2 ’ 24 ) mm $ ( serutidnepxe latipac q1 2025 earnings alphabet capital expenditures in millions, except percentages ; unaudited $ 20, 000 $ 17, 197 $ 14, 276 $ 15, 000 $ 13, 186 $ 13, 061 $ 12, 012 $ 10, 000 $ 5, 000 q3 ’ 24 q4 ’ 24 q1 ’ 25 y / y growth + 91 % + 91 % + 62 % + 30 % + 43 %'}\n",
      "0.10184053 191 {'filename': '2022_Q1_Earnings_Transcript.pdf', 'page_index': 0, 'text': \"now i ’ ll turn the call over to sundar. sundar pichai, ceo alphabet and google : thank you, jim, and good afternoon, everyone. over the last few months, guided by our mission, we continued to develop helpful technologies with a view towards empowering both people and businesses. even as more people return to in - person activities, we ’ re seeing hybrid approaches to learning and working are here to stay, and our products are helping partners seize these new opportunities. to help support our own flexible work plans, this year we plan to invest approximately $ 9. 5 billion in our u. s. offices and data centers, creating at least twelve thousand new google jobs in the u. s., in places like new york and atlanta. to enable our long term growth, we ’ re investing in areas like cloud, ai, youtube, search and beyond. in 2020 and 2021 combined, we invested $ 40 billion in research and development here in the u. s. beyond the u. s., we ’ ve announced new office investments in london and warsaw, and a new product development center in nairobi. we ’ re excited for the product development they ’ ll support. we ’ ll share more about these investments at google i / o, our annual developer conference on may 11, and i encourage you to tune in. turning now to product highlights, ai continues to be at the heart of our core search and information products. we launched multisearch in google search this quarter. it ' s a new way people can find what they need using both images and words. for example, you can snap a photo of a shirt pattern and then type the word “ green ” to find a green shirt with that pattern. we also shared new 1\"}\n",
      "0.1017309 87 {'filename': '2025-q1-earnings-transcript.pdf', 'page_index': 6, 'text': \"love ; from live sports and creator - produced content, to shorts and podcasts. creators are what drives viewership, and, on average, they upload 20 million videos a day to youtube. our biggest creators generate a level of fandom and viewer engagement around large cultural moments on youtube that brands can ' t find anywhere else. during march madness, brands aligned not only with clips and highlights from the game, but also with the creators who drive basketball culture, like jesser and the ringer ' s j. kyle mann. in q1, the growth of our reservation - based ads business more than doubled year - over - year. brands and creators continue to use the opportunities that collaborations and partnerships offer. toyota worked with zach king, the king of short magical videos with over 42 million followers, to take over his channel. the creator takeover, and accompanying creator ad, lifted toyota ' s brand awareness by 25 %, compared to a control group, and 9 % compared to the toyota brand ad. 7\"}\n",
      "0.10170646 222 {'filename': '2022_Q1_Earnings_Transcript.pdf', 'page_index': 12, 'text': \"reflects lapping that sizable growth relative to more muted ads performance in apac this first quarter, and it really takes you just back to last quarter. in other americas, it was much more about the fx headwind more than anything else. michael nathanson, moffettnathanson : thanks, ruth. operator : thank you. and our next question comes from brent thill from jefferies. your line is now open. brent thill, jefferies : good afternoon. for sundar, just on google cloud, if you could just walk through the next leg of growth, where you ' re most excited for the rest of ' 22. thank you. sundar pichai, ceo alphabet and google : thanks. look, overall, across the board, i ' m excited because you saw in my earlier remarks, there is a lot of product innovation across the key areas, be it data analytics, cybersecurity, our open multi - cloud, as well as google workspace. so when i look at the innovation and the product pipeline and the overall demand we are seeing in how early our journey is, there ' s definitely a lot to look forward to. cybersecurity has been a particular focus. we obviously are excited about our acquisition of mandiant, which i think will help us serve customers deeper as well. but overall, the execution has been great. we are scaling up, particularly in our go - to - market as well. and i think that will play out well. and over time, as we focus on converting bookings to consumption as well, i think - - i think it will play out well, taking a long - run view and methodically scaling up and executing better. so that ' s what i ' m excited about. brent thill, jefferies : thank you. operator : thank you. and our next question comes from stephen ju from credit\"}\n",
      "0.101517625 608 {'filename': '2024-q4-earnings-transcript.pdf', 'page_index': 2, 'text': \"it uses agentic capabilities to explore complex topics on your behalf, and give key findings, along with sources. it launched in gemini advanced in december and is rolling out to android users all over the world. we are seeing great product momentum with our consumer gemini app, which debuted on ios last november. and we have opened up trusted tester access to a handful of research prototypes, including project mariner, which can understand and reason across information on a browser screen to complete tasks, and project astra. we expect to bring features from both to the gemini app later this year. we ' re also excited by the progress of our video and image generation models : veo 2, our state - of - the - art video generation model, and imagen 3, our highest quality 3\"}\n",
      "0.10074482 388 {'filename': '2023_Q1_Earnings_Transcript.pdf', 'page_index': 5, 'text': 'the amount of manual work to keep creatives fresh and relevant to a user ’ s query, context and to the advertiser ’ s business. to then unlock core search further and maximize conversions across all of google, we ’ re actively helping more advertisers pair it together with performance max. advertisers who use pmax are, on average, achieving over 18 % more conversions at a similar cpa. this is up five points in just 14 months thanks to advances in the ai underlying bidding, creatives, search query matching and new formats like youtube shorts. i mentioned earlier that travel was a contributor to growth. in march, we launched pmax for travel goals. now even the smallest hoteliers can benefit from the expanded reach of hotel ads in pmax. like family - run corissia hotels group, who drove a 32 % increase in revenue and a 26 % increase in total direct bookings within just one month of using pmax for travel goals. there ’ s more to come here as we add even more ai - powered features. stay tuned for more at google marketing live in may. moving onto retail, where we had a solid quarter. our focus is on three pillars. number one, making google a core part of shopping journeys for consumers and a valuable place for merchants to connect with users. number two, empowering more merchants to participate in our free listing and ads experiences. and number three, driving retail performance further with great ads products. in a macroenvironment of “ do more with less, ” our tools and solutions are proving that we can deliver value for retailers - - online and omnichannel - - and drive high - value customers, even in challenging times. caraway, a direct - to - consumer maker of cookware, used target roas to uncap budgets and pmax to optimize and deploy spend across google inventory for'}\n",
      "0.10048771 321 {'filename': '2025-q2-earnings-transcript.pdf', 'page_index': 7, 'text': \"and just last week, we brought a new, agentic capability directly into search for all u. s. users with ai - powered calling to local businesses. finally, shopping, where in q2 we introduced a virtual try - on experience for search labs users in the u. s. now people can try billions of clothing products on themselves, virtually. early results and engagement have been extremely positive, particularly with gen z users, and we ' ll be bringing this functionality to all u. s. users imminently. all these innovations are opening up completely new ways for people to use technology, bringing the offline world into the online world in ways that simply have not been possible before. add in our amazing ai translation capabilities and just imagine the possibilities : people can access more content in their language, and businesses - large and small, international or local - can reach even more customers. i ' m excited about how all of these elements will come together and the opportunities ahead of us in search. moving to ads, where our strategy to reinvent the entire marketing process with ai is delivering value for our customers and our business. last quarter, we introduced ai max in search, a new suite of ai - powered features in existing search campaigns. advertisers that activate ai max in search campaigns typically see 14 % more conversions. on media buying, smart bidding exploration, the biggest update to bidding strategy in a decade, brings better performance to advertisers by allowing them to bid on less obvious, but potentially higher value queries more often. campaigns using smart bidding exploration see a 19 % increase in conversions on average. demand gen continues to drive revenue growth and deliver measurable impact for our customers. as an example, depop, etsy ' s resale clothing marketplace, used a shorts - only demand gen campaign to drive new customers to the site. shorts drove 80 % higher brand lift and doubled click -\"}\n",
      "0.10021812 692 {'filename': '2022_Q3_Earnings_Transcript.pdf', 'page_index': 0, 'text': 'the public through our investor relations website located at abc. xyz / investor. and now i ’ ll turn the call over to sundar. sundar pichai, ceo alphabet and google : thank you, jim, and good afternoon, everyone. our financial results for the third quarter reflect healthy fundamental growth in search and momentum in cloud. our reported results reflect the effect of foreign exchange. the growth in our advertising revenues was also impacted by lapping last year ’ s elevated growth levels and the challenging macro climate. we are sharpening our focus on a clear set of product and business priorities. the product announcements we ’ ve made in just the past month alone have shown that very clearly - including significant improvements to search powered by ai, new ways to monetize youtube shorts, which will support the creator ecosystem, a strong series of hardware launches and new product and partnership announcements at cloud next. these will all drive value for users, partners and our business. we ’ ve also started our work to drive efficiency, by realigning resources to invest in our biggest growth opportunities. over the past quarter, we ’ ve made several shifts away from lower priority efforts to fuel higher growth priorities. 1'}\n",
      "0.10018855 398 {'filename': '2023_Q1_Earnings_Transcript.pdf', 'page_index': 10, 'text': \"new ai tools to show us, what new behavior changes or capabilities are you most excited about for users, developers and advertisers as these tools come out? and then the second one for ruth. could you talk to us about how much of the ai tools have you incorporated internally to sort of drive more productivity out of your engineers, your sales force, your g & a? or is that sort of something to come over the next couple years? thanks. sundar pichai, ceo alphabet and google : thanks, brian. it is an exciting time. i do think we see an opportunity to, across the breadth of what we do at google, to improve our experiences. obviously in search, we ' ve been using ai for a while. it ' s what has really helped lead search and search quality for the past few years, using llms. we now have a chance to more natively use llms, and i think - - i think the main way - - and by the way, as i said in my remarks, we are going to be deliberate. we ' re going to - - our north star is getting it right for users, so we ' ll iterate and innovate as we have always done. the main area maybe i am excited by is we do know from experience that users come back to search. they follow on. they ' re engaging back on stuff they already did. and so for us, to use llms in a way we can serve those use cases better, i think it ' s a real opportunity. obviously, if it ' s youtube, the chance to really improve experiences for creators and consumers in terms of how the videos are viewed, et cetera. i think you can expect changes. workspace, we already have changes rolling out, and it ' s an area where i think we ' ll see the biggest advances because i think productivity is\"}\n",
      "0.10010809 415 {'filename': '2023_Q1_Earnings_Transcript.pdf', 'page_index': 18, 'text': \"store visits and sales, for example. and then to help really retain loyal customers and acquiring new ones, we have youtube, app deep linking, and new customer acquisition goals in pmax are helping here. making checkouts easy with tools like virtual cards on chrome is obviously important. so those are just some of the key points. overall, we are giving retailers really the best, i hope, ai - powered tools and solutions to maximize reach and roi, and really create a seamless experience, including, where possible, on the payments side for their customers. and this will continue to be our focus here. colin sebastian ( baird ) : thank you. operator : thank you. and that concludes our question - and - answer session for today. i would like to turn the conference back over to jim friedland for any further remarks. jim friedland, director investor relations : thanks everyone for joining us today. we look forward to speaking with you again on our second quarter 2023 call. thank you and have a good evening. operator : thank you, everyone. this concludes today ' s conference call. thank you for participating. you may now disconnect. 19\"}\n",
      "0.0998843 245 {'filename': '2024-q1-earnings-transcript.pdf', 'page_index': 9, 'text': \"here and excited about the innovation this partnership will unlock. with that, a huge thank you to our customers and partners, many of whom we ' re excited to see at google marketing live and brandcast in just a few weeks. and a huge thank you, as always, to our incredible teams for their agility and hard work this quarter. ruth, you ' re up! ruth porat, president and chief investment officer ; cfo, alphabet and google : thank you, philipp. we are very pleased with our financial results for the first quarter, driven in particular by strength in search and cloud, as well as the ongoing efforts to durably re - engineer our cost base. my comments will be on year - over - year comparisons for the first quarter, unless i state otherwise. i will start with results at the alphabet level, followed by segment results, and conclude with our outlook. for the first quarter, our consolidated revenues were $ 80. 5 billion, up 15 % or up 16 % in constant currency. search remained the largest contributor to revenue growth. in terms of total expenses, the year - on - year comparisons reflect the impact of the restructuring charges we took in the first quarter of 2023, of $ 2. 6 billion, as well as the $ 716 million in employee severance and related charges in the first quarter of 2024. as you can see in our earnings release, these charges were allocated across the expense lines in other cost of revenues and opex based on associated headcount. to help with year - on - year comparisons, we included a table in our earnings release to adjust other cost of revenues, operating expenses, operating income and operating margin to exclude the impact of severance and related office space charges in the first quarter of 2023 versus 2024. in terms of expenses, total cost of revenues was $ 33. 7 billion, up 10 %. other\"}\n",
      "0.09982682 344 {'filename': '2025-q2-earnings-transcript.pdf', 'page_index': 18, 'text': \"just trying to pass time in the gemini app. you ' ve seen early cases where people may get into a therapy - like experience. so, these are all emerging experiences of what people do, and i think this is why i ' m glad we have both surfaces and we can innovate in both of these areas. of course, there will be areas which will be commonly served by both applications, and over time, i think we can make the experience more seamless for our users. michael nathanson ( moffettnathanson ) : thanks, sundar. operator : our next question comes from mark shmulik with bernstein. your line is now open. mark shmulik ( bernstein ) : thanks for taking the question. sundar, it seems there ' s almost like a daily news report about the ai talent war and high - profile folks moving 19\"}\n",
      "0.09930541 639 {'filename': '2024-q4-earnings-transcript.pdf', 'page_index': 18, 'text': \"the workloads ahead, both to serve billions of users across our products and on the cloud side. a couple of things i would say are, if you look at the trajectory over the past three years, the proportion of the spend towards inference compared to training has been increasing, which is good, because obviously inference is to support businesses with good roic. and so i think that trend is good. i think the reasoning models, if anything, accelerates that trend, because it ' s obviously scaling upon inference dimension as well. and so, look, i think part of the reason we are so excited about the ai opportunity is we know we can drive extraordinary use cases, because the cost of actually using it is going to keep coming down, which will make more use cases feasible, and that ' s the opportunity space. it ' s as big as it comes, and that ' s why you ' re seeing us invest to meet that moment. operator : your next question comes from michael nathanson with moffettnathanson. your line is now open. michael nathanson ( moffettnathanson ) : thank you. i have two, one for philipp and one for anat. philipp, question to you is we ' re starting to see more ai tools on ecommerce sites. something like research with ai recommendations is on google shopping. can you talk about how that product and other ai tools are impacting shopping behavior and how that ' s impacting monetization? and then, i guess, the $ 75 billion question, anat, is : how do you think about long - term capital intensity for this business? it sounds like there ' s a bit of constraint on getting things built. but how do you think about the modeling of capital intensity going forward? what are the things you ' re looking forward to in terms of whether or not this is the right level of\"}\n",
      "0.09916917 24 {'filename': '2023-q2-earnings-transcript.pdf', 'page_index': 12, 'text': \"the next question comes from eric sheridan of goldman sachs. please go ahead. eric sheridan ( goldman sachs ) : thank you so much for taking the questions. maybe one for sundar and one also for ruth. 12 sundar, can you talk a little bit about elements of open source versus closed and things like custom silicon and how you ' re thinking about ai offerings broadly developing over the next couple years, and what you see as some of the key differentiation points that google, either through their cloud business or the consumer offerings, are going to bring to market and how we should think about differentiation playing out to a greater degree in ai in the years ahead. that will be number one. and then, ruth, i ' ll echo brian ' s congrats as well on the new role. maybe both of you could talk to why this type of role might be important at this point in time for alphabet ; and ruth, what you ' re looking to sort of drive into the organization from this new role as you move into it in the fall. thanks. sundar pichai, ceo alphabet and google : thanks, eric. on the first part, obviously a big topic. i would broadly say that investments for ai, when you look at the type of deep computer science work, the talent we have worked hard to bring to the company and from the ground up, the infrastructure we have built. from the earliest days google has been a company, we have thought about the switches in our data centers. wherever we think we can do the best and get an advantage by innovating, we have chosen to do so. we have done that on ai on the silicon side. but what ' s important to us is really stay focused on our users and customers and support all the innovations that ' s needed. so, for example, with cloud, we ' ve really embraced open architecture. we have embraced customers wanting to\"}\n",
      "0.09906909 380 {'filename': '2023_Q1_Earnings_Transcript.pdf', 'page_index': 1, 'text': \"last call, i outlined three areas of opportunity : continuing to develop state - of - the - art large language models and make significant improvements across our products to be more helpful to our users ; empowering developers, creators and partners with our tools ; and enabling organizations of all sizes to utilize and benefit from our ai advances. we have made good progress across all three areas. in march, we introduced our experimental conversational ai service called bard. we ' ve since added our palm model to make it even more powerful, and bard can now help people with programming and software development tasks, including code generation. lots more to come! for developers, we ' ve released our palm api alongside our new makersuite tool. it provides a simple way to access our large language models and begin building new generative ai applications quickly. a number of organizations are using our generative ai large language models across google cloud platform, google workspace, and our cybersecurity offerings. for years, we ' ve been focused on making search even more helpful. from google lens to multisearch to visual exploration in search, immersive view in maps, google translate, to all the language models powering search today, we have used ai to open up access to knowledge in powerful ways. we ’ ll continue to incorporate generative ai advances to make search better in a thoughtful and deliberate way. we ’ ll be guided by data and years of experience about what people want and our high standards for quality. and we will test and iterate as we go, because we know that billions of people trust google to provide the right information. as it evolves, we ’ ll unlock entirely new experiences in search and beyond, just as camera, voice and translation technologies have all opened entirely new categories of queries and exploration. ai has also been foundational to our ads business for over a decade. products like performance max use the full\"}\n",
      "0.09905352 148 {'filename': '2024-q2-earnings-transcript.pdf', 'page_index': 0, 'text': \"- year comparisons unless we state otherwise. and now i ' ll turn the call over to sundar. sundar pichai, ceo alphabet and google : thank you, jim. and hello, everyone. i ' m really pleased with our results this quarter. they show tremendous ongoing momentum in search and great progress in cloud, with our ai initiatives driving new growth. search had another excellent quarter. and in terms of product innovation, we are seeing great progress with ai overviews. in q2, cloud reached some major milestones. quarterly revenues crossed the $ 10 billion mark 1\"}\n",
      "0.098737754 340 {'filename': '2025-q2-earnings-transcript.pdf', 'page_index': 16, 'text': 'able to do it reliably ; the latency compounds, the cost compounds. and being able to do it reliably in a way for the users. all of this comes together. in each of this, we are making progress and it all needs to kind of hang together. the good news is we are making robust progress. we think we are at the frontier there. in all of these areas, when you look back in a 12 - month basis, you end up making the models much more efficient for any given capabilities. so, the forward - looking trajectory, i think, will really unlock these agentic experiences. we see the potential of 17'}\n",
      "0.09825993 617 {'filename': '2024-q4-earnings-transcript.pdf', 'page_index': 7, 'text': \"a reinvented google shopping experience, rebuilt from the ground up with ai. this december saw roughly 13 % more daily active users on google shopping in the u. s. compared to the same period in 2023. closing out on search with travel, and sharing another interesting trend where we saw spend expand to “ travel tuesday ”. this contributed to 20 % year - on - year revenue growth [ from ] travel advertisers across cyber monday and travel tuesday. moving to ads. we continue investing in ai capabilities across media buying, creative, and measurement. as i ' ve said before, we believe that ai will revolutionize every part of the marketing value chain and, over the past quarter, we ' ve seen how our customers are increasingly focusing on optimizing their use of ai. as an example, petco used demand gen campaigns across targeting, creative generation and bidding to find new pet parent audiences across youtube. they achieved a 275 % higher return on ad spend and a 74 % higher click through rate than their social benchmarks. on media buying, we made youtube select creator takeovers generally available in the u. s. and will be expanding to more markets this year. creators know their audience the best, and creator takeovers help businesses connect with consumers through authentic and relevant content. looking at creative, we introduced new controls and made reporting easier in pmax, helping customers better understand and reinvest into their best performing assets. using asset generation in pmax, event tickets center achieved a 5 times increase in production of creative assets, saving time and effort. they also increased conversions by 300 % compared to the previous period when they used manual assets. and finally, measurement. last week, we made meridian, our marketing mix model, generally available for customers, helping more businesses reinvest into creative and media buying strategies that they know work. based on the nielsen meta analysis of marketing mixed models\"}\n",
      "0.097887605 489 {'filename': '2022_Q4_Earnings_Transcript.pdf', 'page_index': 0, 'text': 'at abc. xyz / investor. our comments will be on year - over - year comparisons, unless we state otherwise. and now i ’ ll turn the call over to sundar. sundar pichai, ceo google : thank you, jim. and good afternoon, everyone. it ’ s clear that after a period of significant acceleration in digital spending during the pandemic, the macroeconomic climate has become more challenging. we continue to have an extraordinary business, and provide immensely valuable services for people and our partners. for example, during the world cup final on december 18, google search saw its highest query - per - second volume of all time. and beyond our advertising business, we have strong momentum in cloud, youtube subscriptions and hardware. however, our revenues this quarter were impacted by pullbacks in advertiser spend and the impact of foreign exchange. i ’ ll focus on two major things today in a bit more detail, and then i will give a shorter - than - usual quarterly snapshot from across our business. first, how we unlock the incredible opportunities ai enables for consumers, our partners and for our business ; and, second, how we focus our investments and make necessary decisions as a company to get there. 1'}\n",
      "0.09757845 173 {'filename': '2024-q2-earnings-transcript.pdf', 'page_index': 13, 'text': 'so in terms of the most recent examples, as we talked about last quarter, with the combination of the devices and services product area, with the platforms and ecosystems product area, we announced that back in april. and what we discussed last quarter and what we \\' re seeing is that unifying teams across these organizations helps with product execution, and what we \\' re really focused on is really adding to velocity and efficiency. so kind of the gift that keeps giving. and then more broadly, all of the workstreams that we \\' ve talked to you about before, we continue to remain focused on. a big one, very important one, is all of the efficiency efforts, the workstreams around technical infrastructure and improving efficiency there. we \\' re also working on the use of ai across alphabet. we \\' re continuing to build on what we \\' ve done with our centralized procurement organization. we \\' re continuing to optimize our real estate portfolio. and so, again, this is across our leadership team. these are efforts that all build to this phrase \" durably re - engineering our cost base. \" brian nowak ( morgan stanley ) : great. thank you both. operator : and our next question comes from doug anmuth with jpmorgan. your line is now open. doug anmuth ( jpmorgan ) : thanks for taking questions. one for ruth and one for sundar. ruth, you \\' ve now had google services operating margins roughly 40 % for the past two quarters. just as you create more capacity to help offset the future investments, is it reasonable to think that you could sustain at those kind of levels going forward? and then, sundar, just as it relates to ai overviews, you talked about the positive trends there. can you just help us understand where you are, how far along in rolling out ai overviews? then any more color around sort'}\n",
      "0.097521424 188 {'filename': '2024-q2-earnings-transcript.pdf', 'page_index': 20, 'text': \"and coding, et cetera, we definitely want to be on the cutting edge there. i think we are making these tools available to some of the most productive engineers and demanding engineers out there and they are definitely kicking the tires hard. but i would say it ' s still all in very early stages, particularly when it comes to writing high - quality secure code. but i think all the learnings, what we are gaining here, will translate into our models and products. and that ' s the virtuous cycle which i ' m excited by. so there ' s a lot more to come. justin post ( bank of america ) : great. thank you. operator : thank you. that concludes our question - and - answer session for today. i ' d like to turn the conference back over to jim friedland for any further remarks. jim friedland, director investor relations : thanks, everyone, for joining us today. we look 21\"}\n",
      "0.09715782 4 {'filename': '2023-q2-earnings-transcript.pdf', 'page_index': 2, 'text': \"bard, our experiment in conversational ai. since launching in march, it continues to get better. we rolled out a number of exciting features and capabilities earlier this month. bard is now available in most of the world and over 40 of the most widely spoken languages. we also added google lens capabilities, so you can take an image and ask all kinds of questions, turn it into code, and more. this new feature has been really popular, and it ’ s been great to see people sharing their experiences. bard can now read its responses aloud, and you can adjust them for tone and style. we continue to see great interest in using bard for coding tasks. on productivity, earlier this year, we introduced duet ai in both google cloud and workspace. it helps people collaborate with ai to code, write, and get better insights from data and more. today, more than 750, 000 workspace users have access to the new features in preview. third, we ’ re making it easier for others to innovate using ai. one way is by providing google cloud ’ s high - performance infrastructure, optimized for a range of generative ai models. it ’ s being used by thousands of customers and partners to transform their businesses. i ’ ll give an update on the cloud business in just a moment. finally, we ’ re making sure we develop and deploy ai technology responsibly, so that everyone can benefit. last week we signed on to joint commitments with other leading ai companies at the white house, building on the principles that have guided our work for many years. to take advantage of the ai opportunities ahead, we ' ve been sharpening our focus as a company : investing responsibly with great discipline, and finding areas where we can operate more cost effectively. we ' ve made good progress in data center machine efficiency which will pay dividends as we continue to invest in ai\"}\n",
      "0.096345425 657 {'filename': '2023-q4-earnings-transcript.pdf', 'page_index': 2, 'text': '. next, google cloud. throughout 2023, we introduced thousands of product advances, including broad gen ai capabilities across our ai infrastructure, our vertex ai platform and our new duet ai agents. in q4, our product and gen ai leadership enabled us to win and expand relationships with many leading brands, including hugging face, mcdonald ’ s, motorola mobility, and verizon. google cloud offers our ai hypercomputer, a groundbreaking, supercomputing architecture that combines our powerful tpus and gpus, ai software and multislice and multi - host technology to provide performance and cost advantages for training and serving models. customers like anthropic, character. ai, essential ai, and mistral ai are building and serving models on it. for developers building gen ai applications, we offer vertex ai, a comprehensive enterprise ai platform. it helps customers like deutsche telekom and moody ’ s discover, customize, augment, and deploy over 130 gen ai models, including palm, med - palm, sec - palm and gemini, as well as popular open source and partner models. vertex ai has seen strong adoption with api requests increasing nearly 6x from h1 to h2 last year. 3'}\n",
      "0.09628272 156 {'filename': '2024-q2-earnings-transcript.pdf', 'page_index': 4, 'text': \"2 million trips to date, and driven more than 20 million fully autonomous miles on public roads. waymo is now delivering well over 50, 000 weekly paid, public rides, primarily in san francisco and phoenix. and in june, we removed the waitlist in san francisco so anyone can take a ride. fully autonomous testing is underway in other bay area locations without a human in the driver ' s seat. before i close, i want to acknowledge that today is ruth ' s final earnings call. let me take a moment to thank her for all she has done for google and alphabet as our longest - serving cfo. i ' m excited to continue to work with her in her new role. and i look forward to welcoming our newly appointed cfo, anat ashkenazi. she starts next week, and you ' ll hear from her on our call next quarter. thanks as always to our employees and partners everywhere for a great q2. with that, over to you, philipp. 5\"}\n",
      "0.09599468 149 {'filename': '2024-q2-earnings-transcript.pdf', 'page_index': 1, 'text': \"for the first time, and at the same time passed the $ 1 billion mark in quarterly operating profit. year to date, our ai infrastructure and generative ai solutions for cloud customers have already generated billions in revenues, and are being used by more than 2 million developers. as i spoke about last quarter, we are uniquely well - positioned for the ai opportunity ahead. our research and infrastructure leadership means we can pursue an in - house strategy that enables our product teams to move quickly. combined with our model - building expertise, we are in a strong position to control our destiny as the technology continues to evolve. importantly, we are innovating at every layer of the ai stack, from chips to agents and beyond, a huge strength. we are committed to this leadership long - term. this was underscored by the announcements we made at i / o, cloud next and google marketing live, and we ' ll touch on many of them here. today i ' ll start with search, then move to our ai momentum more generally ; followed by cloud, youtube and some closing thoughts. let ' s dive in. over the past 25 years, we ' ve continued to reimagine and expand google search across many technological shifts. with ai, we are delivering better responses on more types of search queries, and introducing new ways to search. we ' re pleased to see the positive trends from our testing continue as we roll out ai overviews, including increases in search usage and increased user satisfaction with the results. people who are looking for help with complex topics are engaging more and keep coming back for ai overviews. and we see even higher engagement from younger users, aged 18 - 24, when they use search with ai overviews. as we ' ve said, we ' re continuing to prioritize approaches that send traffic to sites across the web. and we ' re seeing that ads appearing either above or\"}\n",
      "0.09596668 379 {'filename': '2023_Q1_Earnings_Transcript.pdf', 'page_index': 0, 'text': \"- year comparisons unless we state otherwise. and now i ’ ll turn the call over to sundar. sundar pichai, ceo alphabet and google : thank you, jim. and good afternoon, everyone. i ’ m pleased with our business performance in the first quarter, with search performing well and momentum in cloud. we introduced important product updates anchored in deep computer science and ai. our north star is providing the most helpful answers for our users, and we see huge opportunities ahead, continuing our long track record of innovation. on cloud, we continue to be on a long and exciting journey to build that business. cloud delivered profitability this quarter, and we remain focused on long - term value creation here. today, i ’ ll give an update on the two themes i spoke about last quarter. one, our advancements in ai and how they are driving opportunities in search and beyond ; and, two, our efforts to sharpen our focus as a company. then i ’ ll talk about our momentum in cloud, and close with our progress at youtube. first, the incredible ai opportunity - - for consumers, our partners and for our business. i ' ve compared it to the successful transition we made from desktop to mobile computing over a decade ago. our investments and breakthroughs in ai over the last decade have positioned us well. in our 1\"}\n",
      "0.09501529 276 {'filename': '2022_Q2_Earnings_Transcript.pdf', 'page_index': 3, 'text': 'finally, google workspace ’ s easy - to - use and secure communication and collaboration tools continue to be chosen by many organizations as they return to hybrid work. google workspace helped st. luke ’ s medical center, a leading healthcare system in the philippines, address a 38 % increase in telehealth visits during the pandemic. results like this are driving growth in many customer segments around the world, including digital natives, like canva, large enterprises like travis perkins plc, and public sector institutions, including the central dutch government. finally, our other bets. waymo expanded rider - only testing with employees to include downtown phoenix, and started testing at phoenix ’ s sky harbor airport. it also began charging trusted tester riders in san francisco, a step closer to launching a commercial service with fully autonomous trips. waymo also opened a new facility to support waymo via, their autonomous class 8 trucking solution, as they continue to increase their operations and investment across the southwest region. calico is testing an investigational drug treatment in patients with als, developed in collaboration with abbvie. it ’ s an early step of many in the development process. wing recently surpassed two hundred and fifty thousand commercial deliveries and unveiled a series of delivery drone prototypes able to carry different sized packages. there ’ s good progress here and we ’ ll continue to be intentional across the portfolio. to close, while the economic outlook is uncertain, it ’ s been great to see people gathering in person again. we ’ re pleased to see people coming back into the office more often, resulting in more opportunities for collaboration. it ’ s a privilege to build technology that is helpful in both good times and uncertain ones, and i want to thank everyone at alphabet and google for their work in support of people, businesses, and all of our partners everywhere. over to you, philipp. philipp schindler, svp and cb'}\n",
      "0.094589934 38 {'filename': '2023-q2-earnings-transcript.pdf', 'page_index': 19, 'text': \"sundar pichai, ceo alphabet and google : i think all of this is before we have multimodal capabilities really in the mix. and so looking at the early innovations there, i think it ' s going to be an exciting couple years ahead. thanks, mark. mark mahaney ( evercore isi ) : thank you, sundar. thank you, philipp. congratulations, ruth. operator : thank you. and that concludes our question - and - answer session for today. i ’ d like to turn the conference back over to jim friedland for any further remarks. jim friedland, director investor relations : thanks, everyone, for joining us today. we look forward to speaking with you again on our third quarter 2023 call. thank you and have a good evening. operator : thank you, everyone. this concludes today ' s conference call. thank you for participating. you may now disconnect. 19\"}\n"
     ]
    }
   ],
   "source": [
    "for score, idx in list(zip(scores[0], indexies[0])):\n",
    "    print(score, idx, meta[idx])"
   ]
  },
  {
   "cell_type": "code",
   "execution_count": 433,
   "id": "d68ba8cc-6abd-4ce9-9ca5-2a877c2e2066",
   "metadata": {},
   "outputs": [],
   "source": [
    "#ranker = Ranker(model_name=\"ms-marco-MiniLM-L-12-v2\", cache_dir=\"cache\")\n",
    "ranker = Ranker(max_length=128)"
   ]
  },
  {
   "cell_type": "code",
   "execution_count": 457,
   "id": "ac3635af-e9db-4e34-881c-26a0ad9057df",
   "metadata": {},
   "outputs": [
    {
     "data": {
      "text/plain": [
       "PosixPath('/tmp/ms-marco-TinyBERT-L-2-v2')"
      ]
     },
     "execution_count": 457,
     "metadata": {},
     "output_type": "execute_result"
    }
   ],
   "source": [
    "ranker.model_dir"
   ]
  },
  {
   "cell_type": "code",
   "execution_count": 434,
   "id": "27d85ca4-4e36-4a8b-8ad7-8b89fb9da625",
   "metadata": {},
   "outputs": [
    {
     "name": "stdout",
     "output_type": "stream",
     "text": [
      "CPU times: user 544 ms, sys: 91 ms, total: 635 ms\n",
      "Wall time: 153 ms\n"
     ]
    }
   ],
   "source": [
    "%%time\n",
    "passages = []\n",
    "for score, idx in list(zip(scores[0], indexies[0])):\n",
    "    m = meta[idx]\n",
    "    passages.append(\n",
    "        {\"id\": idx, \n",
    "         \"text\": m['text'], \n",
    "         \"meta\": {\"filename\": m['filename'], \"page_index\": m[\"page_index\"]}\n",
    "        }\n",
    "    )\n",
    "\n",
    "results = ranker.rerank(\n",
    "    RerankRequest(query=query, passages=passages)\n",
    ")"
   ]
  },
  {
   "cell_type": "code",
   "execution_count": null,
   "id": "b3ee69bd-f291-4483-b2b4-341b780b70e7",
   "metadata": {
    "scrolled": true
   },
   "outputs": [],
   "source": [
    "for r in result:\n",
    "    print(r)"
   ]
  },
  {
   "cell_type": "code",
   "execution_count": 436,
   "id": "ef3b3715-fa03-4cec-92b7-b8a64c17c94c",
   "metadata": {},
   "outputs": [],
   "source": [
    "class VectorDatabaseFacade5:\n",
    "    def __init__(self, database_directory: str, embedding_model: SentenceTransformer):\n",
    "        self.database_directory = database_directory\n",
    "        self.embedding_model = embedding_model\n",
    "        self.index: faiss.IndexFlatIP = None # (fine_splitter._model[1].word_embedding_dimension)\n",
    "        self.documents: Dict[int, Document] = None\n",
    "        #ranker = Ranker(model_name=\"ms-marco-MiniLM-L-12-v2\", cache_dir=\"cache\")\n",
    "        self.ranker = Ranker(max_length=128)\n",
    "\n",
    "    def save_documents(self, docs: Iterator[Document], autosave: bool = True):\n",
    "        if self.index is None:\n",
    "            self.index = faiss.IndexFlatIP(self.embedding_model[1].word_embedding_dimension)\n",
    "        document_index = self.index.ntotal\n",
    "        self.documents = {}\n",
    "        for doc in tqdm(docs):\n",
    "            embeddings = self.embedding_model.encode([doc.page_content], show_progress_bar=False)\n",
    "            # embeddings = embeddings / np.linalg.norm(embeddings, axis=1, keepdims=True)\n",
    "            self.documents[document_index] = doc\n",
    "            self.index.add(embeddings)\n",
    "            doc.id = document_index\n",
    "            document_index += 1\n",
    "        if autosave:\n",
    "            self.save()\n",
    "\n",
    "    def save(self):\n",
    "        if not os.path.exists(self.database_directory):\n",
    "            os.mkdir(self.database_directory)\n",
    "        faiss.write_index(self.index, os.path.join(self.database_directory, \"document.vectors.faiss\"))\n",
    "        pickle_write(self.documents, os.path.join(self.database_directory, \"documents\"))\n",
    "\n",
    "    def load(self):\n",
    "        self.index = faiss.read_index(os.path.join(self.database_directory, \"document.vectors.faiss\"))\n",
    "        self.documents = pickle_read(os.path.join(self.database_directory, \"documents\"))\n",
    "\n",
    "    def query(self, query: str, min_score=0.001) -> Iterator[Tuple[Document, float]]:\n",
    "        query_embedding = self.embedding_model.encode([query], show_progress_bar=False)\n",
    "        # query_embedding = query_embedding / np.linalg.norm(query_embedding, axis=1, keepdims=True)\n",
    "        scores, indexies = self.index.search(query_embedding, k=100)\n",
    "\n",
    "        # Rerank\n",
    "        passages = []\n",
    "        for score, idx in list(zip(scores[0], indexies[0])):\n",
    "            doc: Document = self.documents[idx]\n",
    "            passages.append(\n",
    "                {\n",
    "                    \"id\": idx,\n",
    "                    \"text\": doc.page_content\n",
    "                }\n",
    "            )\n",
    "\n",
    "        runker_results: List[Result] = self.ranker.rerank(RerankRequest(query=query, passages=passages))\n",
    "        results = []\n",
    "        for i, result in enumerate(runker_results):\n",
    "            if i > 0 and result['score'] < min_score:\n",
    "                break\n",
    "            idx = result[\"id\"]\n",
    "            doc = self.documents[idx]\n",
    "            results.append((doc, result['score']))\n",
    "        return results"
   ]
  },
  {
   "cell_type": "code",
   "execution_count": 437,
   "id": "60a3e4c5-f59d-4ce2-86e2-06041a1a6a7c",
   "metadata": {},
   "outputs": [
    {
     "name": "stderr",
     "output_type": "stream",
     "text": [
      "INFO:flashrank.Ranker:Downloading ms-marco-TinyBERT-L-2-v2...\n",
      "ms-marco-TinyBERT-L-2-v2.zip: 100%|████████████████████████████████████████████████████████████████████████████████████████████████████████████████████████████████████████| 3.26M/3.26M [00:03<00:00, 908kiB/s]\n"
     ]
    }
   ],
   "source": [
    "doc_loader = DocumentLoader()\n",
    "vector_database = VectorDatabaseFacade5(\n",
    "    database_directory=os.path.join(os.path.abspath(os.path.curdir), \"db\"),\n",
    "    embedding_model=doc_loader.model\n",
    ")"
   ]
  },
  {
   "cell_type": "code",
   "execution_count": 438,
   "id": "018d4ed5-9788-4951-aeb5-1e2a7e8ae1c8",
   "metadata": {
    "scrolled": true
   },
   "outputs": [],
   "source": [
    "vector_database.load()"
   ]
  },
  {
   "cell_type": "code",
   "execution_count": 439,
   "id": "91dc9060-fc5e-4a45-adad-4a337efb9020",
   "metadata": {},
   "outputs": [
    {
     "data": {
      "text/plain": [
       "(array([[0.21966463, 0.19809765, 0.19809765, 0.18700904, 0.17476872,\n",
       "         0.16283286, 0.16179661, 0.16108891, 0.15978292, 0.15582342]],\n",
       "       dtype=float32),\n",
       " array([[ 278, 1115,  994, 1469, 1392,  279,  141, 1415,  529,  780]]))"
      ]
     },
     "execution_count": 439,
     "metadata": {},
     "output_type": "execute_result"
    }
   ],
   "source": [
    "vector_database.index.search(query_embedding, k=10)"
   ]
  },
  {
   "cell_type": "code",
   "execution_count": 442,
   "id": "57b0babf-22b9-4490-b129-a3134359826d",
   "metadata": {},
   "outputs": [
    {
     "data": {
      "text/plain": [
       "Document(id=994, metadata={'source': '2024-q3-earnings-transcript.pdf', 'chunk_index': 97}, page_content=\"The models for Search, while they keep going up in capability, we have been able to really optimize them for the underlying architecture and that's where we're seeing a lot of efficiencies as well.\\nDoug Anmuth (JPMorgan): Thank you.\\nOperator: Your next question comes from Eric Sheridan with Goldman Sachs. Your line is now open.\\nEric Sheridan (Goldman Sachs): Thank you for taking the questions.\\nAnd, Anat, congrats on the new role, and welcome to Alphabet.\\nSundar, maybe one for you on Waymo. What are the key learnings as Waymo has rolled out to additional cities, in terms of consumer adoption of the product and how you think about go-to-market strategies for Waymo?\\nAnd then maybe one for Philipp. In terms of looking at YouTube trends by long-form versus short-form video or Shorts, how are you seeing consumption versus monetization trends continue to evolve for YouTube, as broken down maybe in that means? Thank you.\")"
      ]
     },
     "execution_count": 442,
     "metadata": {},
     "output_type": "execute_result"
    }
   ],
   "source": [
    "vector_database.documents[994]"
   ]
  },
  {
   "cell_type": "code",
   "execution_count": 450,
   "id": "0ef2f9e6-b63e-46ac-bce6-edae5896be1f",
   "metadata": {},
   "outputs": [],
   "source": [
    "r = vector_database.query(query, min_score=-1)"
   ]
  },
  {
   "cell_type": "code",
   "execution_count": null,
   "id": "6168f30f-1f98-47e4-9e64-6a92ea45462c",
   "metadata": {},
   "outputs": [],
   "source": [
    "r"
   ]
  }
 ],
 "metadata": {
  "kernelspec": {
   "display_name": "kbn 3.13",
   "language": "python",
   "name": "kbkern"
  },
  "language_info": {
   "codemirror_mode": {
    "name": "ipython",
    "version": 3
   },
   "file_extension": ".py",
   "mimetype": "text/x-python",
   "name": "python",
   "nbconvert_exporter": "python",
   "pygments_lexer": "ipython3",
   "version": "3.13.7"
  }
 },
 "nbformat": 4,
 "nbformat_minor": 5
}
