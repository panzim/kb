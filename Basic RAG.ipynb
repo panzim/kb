{
 "cells": [
  {
   "cell_type": "code",
   "execution_count": 58,
   "id": "0b26ac10-8805-4f06-b6aa-c93e25dc4946",
   "metadata": {},
   "outputs": [],
   "source": [
    "import pdfplumber\n",
    "from langchain.text_splitter import RecursiveCharacterTextSplitter, SentenceTransformersTokenTextSplitter\n",
    "from sentence_transformers import SentenceTransformer\n",
    "import glob\n",
    "import os\n",
    "from tqdm import tqdm\n",
    "from typing import Generator, Tuple, Iterator\n",
    "\n",
    "import faiss\n",
    "import numpy as np\n",
    "import pickle"
   ]
  },
  {
   "cell_type": "code",
   "execution_count": 59,
   "id": "50a7169b-e256-4eb9-9ecd-d6ba1d67f904",
   "metadata": {},
   "outputs": [],
   "source": [
    "def pickle_read(filename: str):\n",
    "    with open(\"data.pkl\", \"rb\") as f:\n",
    "        loaded_data = pickle.load(f)\n",
    "    return loaded_data\n",
    "def pickle_write(data, filename: str):\n",
    "    with open(filename + \".pkl\", \"wb\") as f:\n",
    "        pickle.dump(data, f)"
   ]
  },
  {
   "cell_type": "code",
   "execution_count": 4,
   "id": "df83ba4b-9d89-41c8-9970-91027f4e903c",
   "metadata": {},
   "outputs": [],
   "source": [
    "def index_documents(knowledge_base_path: str = \"raw-kb\") -> Iterator[Tuple[str, str, int]]:\n",
    "    for filepath in glob.glob(os.path.join(knowledge_base_path, \"*.pdf\")):\n",
    "        filename = os.path.basename(filepath)\n",
    "        with pdfplumber.open(filepath) as pdf:\n",
    "            for idx, page in enumerate(pdf.pages):\n",
    "                yield page.extract_text(), filename, idx"
   ]
  },
  {
   "cell_type": "code",
   "execution_count": 51,
   "id": "6fb1e490-ff45-4d01-a668-4642c36aa86d",
   "metadata": {},
   "outputs": [
    {
     "data": {
      "application/vnd.jupyter.widget-view+json": {
       "model_id": "9e886e3969d7424fb8c0f884e9878c23",
       "version_major": 2,
       "version_minor": 0
      },
      "text/plain": [
       "modules.json:   0%|          | 0.00/349 [00:00<?, ?B/s]"
      ]
     },
     "metadata": {},
     "output_type": "display_data"
    },
    {
     "data": {
      "application/vnd.jupyter.widget-view+json": {
       "model_id": "248e927ad6cb43c39fd3ef90af77a98a",
       "version_major": 2,
       "version_minor": 0
      },
      "text/plain": [
       "config_sentence_transformers.json:   0%|          | 0.00/116 [00:00<?, ?B/s]"
      ]
     },
     "metadata": {},
     "output_type": "display_data"
    },
    {
     "data": {
      "application/vnd.jupyter.widget-view+json": {
       "model_id": "e5b77d93a75d431ca4b85803e0b4ee38",
       "version_major": 2,
       "version_minor": 0
      },
      "text/plain": [
       "README.md: 0.00B [00:00, ?B/s]"
      ]
     },
     "metadata": {},
     "output_type": "display_data"
    },
    {
     "data": {
      "application/vnd.jupyter.widget-view+json": {
       "model_id": "a56192a8211046d4b0cd3aa45939733f",
       "version_major": 2,
       "version_minor": 0
      },
      "text/plain": [
       "sentence_bert_config.json:   0%|          | 0.00/53.0 [00:00<?, ?B/s]"
      ]
     },
     "metadata": {},
     "output_type": "display_data"
    },
    {
     "data": {
      "application/vnd.jupyter.widget-view+json": {
       "model_id": "ace12b3fa3a4482c880522441c845a17",
       "version_major": 2,
       "version_minor": 0
      },
      "text/plain": [
       "config.json:   0%|          | 0.00/571 [00:00<?, ?B/s]"
      ]
     },
     "metadata": {},
     "output_type": "display_data"
    },
    {
     "data": {
      "application/vnd.jupyter.widget-view+json": {
       "model_id": "7c72b84bb7564aa6a89ff7368015df03",
       "version_major": 2,
       "version_minor": 0
      },
      "text/plain": [
       "model.safetensors:   0%|          | 0.00/438M [00:00<?, ?B/s]"
      ]
     },
     "metadata": {},
     "output_type": "display_data"
    },
    {
     "data": {
      "application/vnd.jupyter.widget-view+json": {
       "model_id": "aaf464e60bdc40ba96ed251940bf7dc4",
       "version_major": 2,
       "version_minor": 0
      },
      "text/plain": [
       "tokenizer_config.json:   0%|          | 0.00/363 [00:00<?, ?B/s]"
      ]
     },
     "metadata": {},
     "output_type": "display_data"
    },
    {
     "data": {
      "application/vnd.jupyter.widget-view+json": {
       "model_id": "f03bad30d20142ebb8d68aa48775dc86",
       "version_major": 2,
       "version_minor": 0
      },
      "text/plain": [
       "vocab.txt: 0.00B [00:00, ?B/s]"
      ]
     },
     "metadata": {},
     "output_type": "display_data"
    },
    {
     "data": {
      "application/vnd.jupyter.widget-view+json": {
       "model_id": "194dd5c40c094f9cb20fbffaa033aed5",
       "version_major": 2,
       "version_minor": 0
      },
      "text/plain": [
       "tokenizer.json: 0.00B [00:00, ?B/s]"
      ]
     },
     "metadata": {},
     "output_type": "display_data"
    },
    {
     "data": {
      "application/vnd.jupyter.widget-view+json": {
       "model_id": "24b923f834bd4427aff51877519631de",
       "version_major": 2,
       "version_minor": 0
      },
      "text/plain": [
       "special_tokens_map.json:   0%|          | 0.00/239 [00:00<?, ?B/s]"
      ]
     },
     "metadata": {},
     "output_type": "display_data"
    },
    {
     "data": {
      "application/vnd.jupyter.widget-view+json": {
       "model_id": "01af3671323d4768a23e44f494acf8e2",
       "version_major": 2,
       "version_minor": 0
      },
      "text/plain": [
       "config.json:   0%|          | 0.00/190 [00:00<?, ?B/s]"
      ]
     },
     "metadata": {},
     "output_type": "display_data"
    }
   ],
   "source": [
    "fine_splitter = SentenceTransformersTokenTextSplitter(\n",
    "    model_name=\"all-mpnet-base-v2\", #\"sentence-transformers/all-MiniLM-L6-v2\",\n",
    "    tokens_per_chunk=1024,\n",
    "    chunk_overlap=50\n",
    ")\n",
    "\n",
    "model = fine_splitter._model"
   ]
  },
  {
   "cell_type": "code",
   "execution_count": 69,
   "id": "18622035-555c-4204-966c-f90ee0380338",
   "metadata": {},
   "outputs": [
    {
     "name": "stdout",
     "output_type": "stream",
     "text": [
      "Index created\n"
     ]
    }
   ],
   "source": [
    "try:\n",
    "    #1/0\n",
    "    index = faiss.read_index(\"basic_rag.faiss\")\n",
    "    meta = pickle_read(\"meta\")\n",
    "    print(\"Index readed\")\n",
    "except:\n",
    "    index = faiss.IndexFlatL2(fine_splitter._model[1].word_embedding_dimension)\n",
    "    meta = {}\n",
    "    print(\"Index created\")"
   ]
  },
  {
   "cell_type": "code",
   "execution_count": 78,
   "id": "3479b6fb-8b7f-4f19-9c5e-b0f68d952a67",
   "metadata": {},
   "outputs": [
    {
     "name": "stderr",
     "output_type": "stream",
     "text": [
      "20it [00:07,  3.47it/s]Could get FontBBox from font descriptor because None cannot be parsed as 4 floats\n",
      "Could get FontBBox from font descriptor because None cannot be parsed as 4 floats\n",
      "Could get FontBBox from font descriptor because None cannot be parsed as 4 floats\n",
      "Could get FontBBox from font descriptor because None cannot be parsed as 4 floats\n",
      "Could get FontBBox from font descriptor because None cannot be parsed as 4 floats\n",
      "Could get FontBBox from font descriptor because None cannot be parsed as 4 floats\n",
      "Could get FontBBox from font descriptor because None cannot be parsed as 4 floats\n",
      "Could get FontBBox from font descriptor because None cannot be parsed as 4 floats\n",
      "Could get FontBBox from font descriptor because None cannot be parsed as 4 floats\n",
      "Could get FontBBox from font descriptor because None cannot be parsed as 4 floats\n",
      "Could get FontBBox from font descriptor because None cannot be parsed as 4 floats\n",
      "Could get FontBBox from font descriptor because None cannot be parsed as 4 floats\n",
      "Could get FontBBox from font descriptor because None cannot be parsed as 4 floats\n",
      "21it [00:07,  3.49it/s]Could get FontBBox from font descriptor because None cannot be parsed as 4 floats\n",
      "Could get FontBBox from font descriptor because None cannot be parsed as 4 floats\n",
      "27it [00:08,  7.00it/s]Cannot set gray non-stroke color because /'Paint12' is an invalid float value\n",
      "Cannot set gray non-stroke color because /'Paint13' is an invalid float value\n",
      "68it [00:21,  5.61it/s]Cannot set gray non-stroke color because /'Paint12' is an invalid float value\n",
      "Cannot set gray non-stroke color because /'Paint13' is an invalid float value\n",
      "161it [00:53,  2.94it/s]Could get FontBBox from font descriptor because None cannot be parsed as 4 floats\n",
      "Could get FontBBox from font descriptor because None cannot be parsed as 4 floats\n",
      "Could get FontBBox from font descriptor because None cannot be parsed as 4 floats\n",
      "Could get FontBBox from font descriptor because None cannot be parsed as 4 floats\n",
      "Could get FontBBox from font descriptor because None cannot be parsed as 4 floats\n",
      "Could get FontBBox from font descriptor because None cannot be parsed as 4 floats\n",
      "Could get FontBBox from font descriptor because None cannot be parsed as 4 floats\n",
      "Could get FontBBox from font descriptor because None cannot be parsed as 4 floats\n",
      "Could get FontBBox from font descriptor because None cannot be parsed as 4 floats\n",
      "Could get FontBBox from font descriptor because None cannot be parsed as 4 floats\n",
      "162it [00:53,  3.35it/s]Could get FontBBox from font descriptor because None cannot be parsed as 4 floats\n",
      "Could get FontBBox from font descriptor because None cannot be parsed as 4 floats\n",
      "Could get FontBBox from font descriptor because None cannot be parsed as 4 floats\n",
      "Could get FontBBox from font descriptor because None cannot be parsed as 4 floats\n",
      "Could get FontBBox from font descriptor because None cannot be parsed as 4 floats\n",
      "Could get FontBBox from font descriptor because None cannot be parsed as 4 floats\n",
      "253it [01:21,  3.12it/s]Could get FontBBox from font descriptor because None cannot be parsed as 4 floats\n",
      "Could get FontBBox from font descriptor because None cannot be parsed as 4 floats\n",
      "Could get FontBBox from font descriptor because None cannot be parsed as 4 floats\n",
      "Could get FontBBox from font descriptor because None cannot be parsed as 4 floats\n",
      "Could get FontBBox from font descriptor because None cannot be parsed as 4 floats\n",
      "Could get FontBBox from font descriptor because None cannot be parsed as 4 floats\n",
      "Could get FontBBox from font descriptor because None cannot be parsed as 4 floats\n",
      "Could get FontBBox from font descriptor because None cannot be parsed as 4 floats\n",
      "Could get FontBBox from font descriptor because None cannot be parsed as 4 floats\n",
      "Could get FontBBox from font descriptor because None cannot be parsed as 4 floats\n",
      "Could get FontBBox from font descriptor because None cannot be parsed as 4 floats\n",
      "Could get FontBBox from font descriptor because None cannot be parsed as 4 floats\n",
      "Could get FontBBox from font descriptor because None cannot be parsed as 4 floats\n",
      "Could get FontBBox from font descriptor because None cannot be parsed as 4 floats\n",
      "255it [01:21,  3.89it/s]Could get FontBBox from font descriptor because None cannot be parsed as 4 floats\n",
      "Could get FontBBox from font descriptor because None cannot be parsed as 4 floats\n",
      "381it [02:07,  2.99it/s]"
     ]
    },
    {
     "name": "stdout",
     "output_type": "stream",
     "text": [
      "CPU times: user 10min 29s, sys: 3min 36s, total: 14min 5s\n",
      "Wall time: 2min 7s\n"
     ]
    },
    {
     "name": "stderr",
     "output_type": "stream",
     "text": [
      "\n"
     ]
    }
   ],
   "source": [
    "%%time\n",
    "document_index = index.ntotal\n",
    "meta = {}\n",
    "for text, filename, page_index in tqdm(index_documents()):\n",
    "    for chunk in fine_splitter.split_text(text):\n",
    "        embeddings = model.encode([text])\n",
    "        meta[document_index] = {\"filename\": filename, \"page_index\": page_index, \"text\": chunk}\n",
    "        index.add(embeddings)\n",
    "        document_index += 1\n",
    "faiss.write_index(index, \"basic_rag.faiss\")\n",
    "pickle_write(meta, \"meta\")"
   ]
  },
  {
   "cell_type": "code",
   "execution_count": 60,
   "id": "5bf385f2-478e-4505-9f5f-7e8294986d06",
   "metadata": {},
   "outputs": [],
   "source": []
  },
  {
   "cell_type": "code",
   "execution_count": 72,
   "id": "ddb6d8d9-cd29-49f7-82ed-2c359648460f",
   "metadata": {},
   "outputs": [],
   "source": [
    "scores, indexies = index.search(model.encode([\"Philipp Schindler\"]), k=10)"
   ]
  },
  {
   "cell_type": "code",
   "execution_count": 73,
   "id": "815500ee-7ecd-49d8-b0fc-c22186d973d3",
   "metadata": {},
   "outputs": [
    {
     "ename": "KeyError",
     "evalue": "-1",
     "output_type": "error",
     "traceback": [
      "\u001b[31m---------------------------------------------------------------------------\u001b[39m",
      "\u001b[31mKeyError\u001b[39m                                  Traceback (most recent call last)",
      "\u001b[36mCell\u001b[39m\u001b[36m \u001b[39m\u001b[32mIn[73]\u001b[39m\u001b[32m, line 2\u001b[39m\n\u001b[32m      1\u001b[39m \u001b[38;5;28;01mfor\u001b[39;00m score, idx \u001b[38;5;129;01min\u001b[39;00m \u001b[38;5;28mlist\u001b[39m(\u001b[38;5;28mzip\u001b[39m(scores[\u001b[32m0\u001b[39m], indexies[\u001b[32m0\u001b[39m])):\n\u001b[32m----> \u001b[39m\u001b[32m2\u001b[39m     \u001b[38;5;28mprint\u001b[39m(score, \u001b[43mmeta\u001b[49m\u001b[43m[\u001b[49m\u001b[43midx\u001b[49m\u001b[43m]\u001b[49m)\n",
      "\u001b[31mKeyError\u001b[39m: -1"
     ]
    }
   ],
   "source": [
    "for score, idx in list(zip(scores[0], indexies[0])):\n",
    "    print(score, meta[idx])"
   ]
  },
  {
   "cell_type": "code",
   "execution_count": 77,
   "id": "29e73496-ea7f-4a31-9406-46de83985b8a",
   "metadata": {},
   "outputs": [
    {
     "data": {
      "text/plain": [
       "0"
      ]
     },
     "execution_count": 77,
     "metadata": {},
     "output_type": "execute_result"
    }
   ],
   "source": [
    "index.ntotal"
   ]
  }
 ],
 "metadata": {
  "kernelspec": {
   "display_name": "Python 3 (ipykernel)",
   "language": "python",
   "name": "python3"
  },
  "language_info": {
   "codemirror_mode": {
    "name": "ipython",
    "version": 3
   },
   "file_extension": ".py",
   "mimetype": "text/x-python",
   "name": "python",
   "nbconvert_exporter": "python",
   "pygments_lexer": "ipython3",
   "version": "3.12.4"
  }
 },
 "nbformat": 4,
 "nbformat_minor": 5
}
