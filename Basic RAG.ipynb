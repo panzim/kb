{
 "cells": [
  {
   "cell_type": "code",
   "execution_count": null,
   "id": "0b26ac10-8805-4f06-b6aa-c93e25dc4946",
   "metadata": {},
   "outputs": [],
   "source": [
    "import pdfplumber\n",
    "from langchain.text_splitter import RecursiveCharacterTextSplitter, SentenceTransformersTokenTextSplitter\n",
    "from sentence_transformers import SentenceTransformer\n",
    "import glob\n",
    "import os\n",
    "from tqdm import tqdm\n",
    "from typing import Generator, Tuple, Iterator\n",
    "\n",
    "import faiss\n",
    "import numpy as np\n",
    "import pickle"
   ]
  },
  {
   "cell_type": "code",
   "execution_count": null,
   "id": "50a7169b-e256-4eb9-9ecd-d6ba1d67f904",
   "metadata": {},
   "outputs": [],
   "source": [
    "def pickle_read(filename: str):\n",
    "    with open(\"data.pkl\", \"rb\") as f:\n",
    "        loaded_data = pickle.load(f)\n",
    "    return loaded_data\n",
    "def pickle_write(data, filename: str):\n",
    "    with open(filename + \".pkl\", \"wb\") as f:\n",
    "        pickle.dump(data, f)"
   ]
  },
  {
   "cell_type": "code",
   "execution_count": null,
   "id": "df83ba4b-9d89-41c8-9970-91027f4e903c",
   "metadata": {},
   "outputs": [],
   "source": [
    "def index_documents(knowledge_base_path: str = \"raw-kb\") -> Iterator[Tuple[str, str, int]]:\n",
    "    for filepath in glob.glob(os.path.join(knowledge_base_path, \"*.pdf\")):\n",
    "        filename = os.path.basename(filepath)\n",
    "        with pdfplumber.open(filepath) as pdf:\n",
    "            for idx, page in enumerate(pdf.pages):\n",
    "                yield page.extract_text(), filename, idx"
   ]
  },
  {
   "cell_type": "code",
   "execution_count": null,
   "id": "6fb1e490-ff45-4d01-a668-4642c36aa86d",
   "metadata": {},
   "outputs": [],
   "source": [
    "fine_splitter = SentenceTransformersTokenTextSplitter(\n",
    "    model_name=\"all-mpnet-base-v2\", #\"sentence-transformers/all-MiniLM-L6-v2\",\n",
    "    tokens_per_chunk=384,\n",
    "    chunk_overlap=50\n",
    ")\n",
    "\n",
    "model = fine_splitter._model"
   ]
  },
  {
   "cell_type": "code",
   "execution_count": null,
   "id": "18622035-555c-4204-966c-f90ee0380338",
   "metadata": {},
   "outputs": [],
   "source": [
    "try:\n",
    "    #1/0\n",
    "    index = faiss.read_index(\"basic_rag.faiss\")\n",
    "    meta = pickle_read(\"meta\")\n",
    "    print(\"Index read\")\n",
    "except:\n",
    "    index = faiss.IndexFlatL2(fine_splitter._model[1].word_embedding_dimension)\n",
    "    meta = {}\n",
    "    print(\"Index created\")"
   ]
  },
  {
   "cell_type": "code",
   "execution_count": null,
   "id": "3479b6fb-8b7f-4f19-9c5e-b0f68d952a67",
   "metadata": {},
   "outputs": [],
   "source": [
    "%%time\n",
    "document_index = index.ntotal\n",
    "meta = {}\n",
    "for text, filename, page_index in tqdm(index_documents()):\n",
    "    for chunk in fine_splitter.split_text(text):\n",
    "        embeddings = model.encode([chunk])\n",
    "        meta[document_index] = {\"filename\": filename, \"page_index\": page_index, \"text\": chunk}\n",
    "        index.add(embeddings)\n",
    "        document_index += 1\n",
    "faiss.write_index(index, \"basic_rag.faiss\")\n",
    "pickle_write(meta, \"meta\")"
   ]
  },
  {
   "cell_type": "code",
   "execution_count": null,
   "id": "5bf385f2-478e-4505-9f5f-7e8294986d06",
   "metadata": {},
   "outputs": [],
   "source": [
    "chunk"
   ]
  },
  {
   "cell_type": "code",
   "execution_count": null,
   "id": "c09ebd91-4274-4ed7-ab11-a65ddf2be566",
   "metadata": {},
   "outputs": [],
   "source": [
    "embeddings[0].tolist()[:10]"
   ]
  },
  {
   "cell_type": "code",
   "execution_count": null,
   "id": "1f53fa78-3d59-4aa3-b9f6-9549ac5ca738",
   "metadata": {},
   "outputs": [],
   "source": [
    "model.encode([chunk])[0].tolist()[:10]"
   ]
  },
  {
   "cell_type": "code",
   "execution_count": null,
   "id": "ddb6d8d9-cd29-49f7-82ed-2c359648460f",
   "metadata": {},
   "outputs": [],
   "source": [
    "scores, indexies = index.search(model.encode([\"Philipp Schindler\"]), k=10)\n",
    "print(indexies[0])\n",
    "#scores, indexies = index.search(embeddings, k=10)"
   ]
  },
  {
   "cell_type": "code",
   "execution_count": null,
   "id": "815500ee-7ecd-49d8-b0fc-c22186d973d3",
   "metadata": {},
   "outputs": [],
   "source": [
    "for score, idx in list(zip(scores[0], indexies[0])):\n",
    "    print(score, idx, meta[idx])"
   ]
  },
  {
   "cell_type": "code",
   "execution_count": null,
   "id": "d68ba8cc-6abd-4ce9-9ca5-2a877c2e2066",
   "metadata": {},
   "outputs": [],
   "source": []
  }
 ],
 "metadata": {
  "kernelspec": {
   "display_name": "Python 3 (ipykernel)",
   "language": "python",
   "name": "python3"
  },
  "language_info": {
   "codemirror_mode": {
    "name": "ipython",
    "version": 3
   },
   "file_extension": ".py",
   "mimetype": "text/x-python",
   "name": "python",
   "nbconvert_exporter": "python",
   "pygments_lexer": "ipython3",
   "version": "3.12.3"
  }
 },
 "nbformat": 4,
 "nbformat_minor": 5
}
